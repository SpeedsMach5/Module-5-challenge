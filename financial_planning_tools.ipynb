{
 "cells": [
  {
   "cell_type": "markdown",
   "metadata": {},
   "source": [
    "# Financial Planning with APIs and Simulations\n",
    "\n",
    "In this Challenge, you’ll create two financial analysis tools by using a single Jupyter notebook:\n",
    "\n",
    "Part 1: A financial planner for emergencies. The members will be able to use this tool to visualize their current savings. The members can then determine if they have enough reserves for an emergency fund.\n",
    "\n",
    "Part 2: A financial planner for retirement. This tool will forecast the performance of their retirement portfolio in 30 years. To do this, the tool will make an Alpaca API call via the Alpaca SDK to get historical price data for use in Monte Carlo simulations.\n",
    "\n",
    "You’ll use the information from the Monte Carlo simulation to answer questions about the portfolio in your Jupyter notebook.\n",
    "\n"
   ]
  },
  {
   "cell_type": "code",
   "execution_count": 212,
   "metadata": {},
   "outputs": [],
   "source": [
    "# Import the required libraries and dependencies\n",
    "import os\n",
    "import requests\n",
    "import json\n",
    "import pandas as pd\n",
    "from dotenv import load_dotenv\n",
    "import alpaca_trade_api as tradeapi\n",
    "from MCForecastTools import MCSimulation\n",
    "import numpy as np\n",
    "import pandas as pd\n",
    "import os\n",
    "import alpaca_trade_api as tradeapi\n",
    "import datetime as dt\n",
    "import pytz\n",
    "# print(json)\n",
    "\n",
    "%matplotlib inline"
   ]
  },
  {
   "cell_type": "code",
   "execution_count": 213,
   "metadata": {
    "tags": []
   },
   "outputs": [],
   "source": [
    "# Load the environment variables from the .env file\n",
    "#by calling the load_dotenv function\n",
    "load_dotenv()\n",
    "\n",
    "\n",
    "alpaca_api_key=os.getenv(\"Alpaca_api_key\")\n",
    "alpaca_secret_key=os.getenv(\"Secret_key\")\n",
    "#print(alpaca_api_key)"
   ]
  },
  {
   "cell_type": "markdown",
   "metadata": {},
   "source": [
    "## Part 1: Create a Financial Planner for Emergencies"
   ]
  },
  {
   "cell_type": "markdown",
   "metadata": {},
   "source": [
    "### Evaluate the Cryptocurrency Wallet by Using the Requests Library\n",
    "\n",
    "In this section, you’ll determine the current value of a member’s cryptocurrency wallet. You’ll collect the current prices for the Bitcoin and Ethereum cryptocurrencies by using the Python Requests library. For the prototype, you’ll assume that the member holds the 1.2 Bitcoins (BTC) and 5.3 Ethereum coins (ETH). To do all this, complete the following steps:\n",
    "\n",
    "1. Create a variable named `monthly_income`, and set its value to `12000`.\n",
    "\n",
    "2. Use the Requests library to get the current price (in US dollars) of Bitcoin (BTC) and Ethereum (ETH) by using the API endpoints that the starter code supplies.\n",
    "\n",
    "3. Navigate the JSON response object to access the current price of each coin, and store each in a variable.\n",
    "\n",
    "    > **Hint** Note the specific identifier for each cryptocurrency in the API JSON response. The Bitcoin identifier is `1`, and the Ethereum identifier is `1027`.\n",
    "\n",
    "4. Calculate the value, in US dollars, of the current amount of each cryptocurrency and of the entire cryptocurrency wallet.\n",
    "\n"
   ]
  },
  {
   "cell_type": "code",
   "execution_count": 214,
   "metadata": {},
   "outputs": [],
   "source": [
    "# The current number of coins for each cryptocurrency asset held in the portfolio.\n",
    "btc_coins = 1.2\n",
    "eth_coins = 5.3"
   ]
  },
  {
   "cell_type": "markdown",
   "metadata": {},
   "source": [
    "#### Step 1: Create a variable named `monthly_income`, and set its value to `12000`."
   ]
  },
  {
   "cell_type": "code",
   "execution_count": 215,
   "metadata": {},
   "outputs": [],
   "source": [
    "# The monthly amount for the member's household income\n",
    "monthly_income = 12000\n"
   ]
  },
  {
   "cell_type": "markdown",
   "metadata": {},
   "source": [
    "#### Review the endpoint URLs for the API calls to Free Crypto API in order to get the current pricing information for both BTC and ETH."
   ]
  },
  {
   "cell_type": "code",
   "execution_count": 216,
   "metadata": {
    "tags": []
   },
   "outputs": [],
   "source": [
    "# The Free Crypto API Call endpoint URLs for the held cryptocurrency assets\n",
    "btc_url = \"https://api.alternative.me/v2/ticker/Bitcoin/?convert=USD\"\n",
    "eth_url = \"https://api.alternative.me/v2/ticker/Ethereum/?convert=USD\"\n"
   ]
  },
  {
   "cell_type": "markdown",
   "metadata": {},
   "source": [
    "#### Step 2. Use the Requests library to get the current price (in US dollars) of Bitcoin (BTC) and Ethereum (ETH) by using the API endpoints that the starter code supplied."
   ]
  },
  {
   "cell_type": "code",
   "execution_count": 217,
   "metadata": {},
   "outputs": [
    {
     "name": "stdout",
     "output_type": "stream",
     "text": [
      "{\n",
      "    \"data\": {\n",
      "        \"1\": {\n",
      "            \"circulating_supply\": 18848375,\n",
      "            \"id\": 1,\n",
      "            \"last_updated\": 1634673527,\n",
      "            \"max_supply\": 21000000,\n",
      "            \"name\": \"Bitcoin\",\n",
      "            \"quotes\": {\n",
      "                \"USD\": {\n",
      "                    \"market_cap\": 1205165955488,\n",
      "                    \"percent_change_1h\": 0.664795349551584,\n",
      "                    \"percent_change_24h\": 4.06831424549431,\n",
      "                    \"percent_change_7d\": 11.1736111582642,\n",
      "                    \"percentage_change_1h\": 0.664795349551584,\n",
      "                    \"percentage_change_24h\": 4.06831424549431,\n",
      "                    \"percentage_change_7d\": 11.1736111582642,\n",
      "                    \"price\": 64005.0,\n",
      "                    \"volume_24h\": 42048179188\n",
      "                }\n",
      "            },\n",
      "            \"rank\": 1,\n",
      "            \"symbol\": \"BTC\",\n",
      "            \"total_supply\": 18848375,\n",
      "            \"website_slug\": \"bitcoin\"\n",
      "        }\n",
      "    },\n",
      "    \"metadata\": {\n",
      "        \"error\": null,\n",
      "        \"num_cryptocurrencies\": 3105,\n",
      "        \"timestamp\": 1634673527\n",
      "    }\n",
      "}\n"
     ]
    }
   ],
   "source": [
    "# Using the Python requests library, make an API call to access the current price of BTC\n",
    "btc_response = requests.get(btc_url).json()\n",
    "\n",
    "\n",
    "# Use the json.dumps function to review the response data from the API call\n",
    "# Use the indent and sort_keys parameters to make the response object readable\n",
    "print(json.dumps(btc_response, indent=4, sort_keys=True))\n"
   ]
  },
  {
   "cell_type": "code",
   "execution_count": 218,
   "metadata": {},
   "outputs": [
    {
     "name": "stdout",
     "output_type": "stream",
     "text": [
      "{\n",
      "    \"data\": {\n",
      "        \"1027\": {\n",
      "            \"circulating_supply\": 117994266,\n",
      "            \"id\": 1027,\n",
      "            \"last_updated\": 1634673562,\n",
      "            \"max_supply\": 0,\n",
      "            \"name\": \"Ethereum\",\n",
      "            \"quotes\": {\n",
      "                \"USD\": {\n",
      "                    \"market_cap\": 451299037874,\n",
      "                    \"percent_change_1h\": 0.0838612328186685,\n",
      "                    \"percent_change_24h\": 2.08503530060847,\n",
      "                    \"percent_change_7d\": 8.03583515751141,\n",
      "                    \"percentage_change_1h\": 0.0838612328186685,\n",
      "                    \"percentage_change_24h\": 2.08503530060847,\n",
      "                    \"percentage_change_7d\": 8.03583515751141,\n",
      "                    \"price\": 3822.14,\n",
      "                    \"volume_24h\": 17065808424\n",
      "                }\n",
      "            },\n",
      "            \"rank\": 2,\n",
      "            \"symbol\": \"ETH\",\n",
      "            \"total_supply\": 117994266,\n",
      "            \"website_slug\": \"ethereum\"\n",
      "        }\n",
      "    },\n",
      "    \"metadata\": {\n",
      "        \"error\": null,\n",
      "        \"num_cryptocurrencies\": 3105,\n",
      "        \"timestamp\": 1634673562\n",
      "    }\n",
      "}\n"
     ]
    }
   ],
   "source": [
    "# Using the Python requests library, make an API call to access the current price ETH\n",
    "eth_response = requests.get(eth_url).json()\n",
    "\n",
    "# Use the json.dumps function to review the response data from the API call\n",
    "# Use the indent and sort_keys parameters to make the response object readable\n",
    "print(json.dumps(eth_response, indent=4, sort_keys=True))\n"
   ]
  },
  {
   "cell_type": "markdown",
   "metadata": {},
   "source": [
    "#### Step 3: Navigate the JSON response object to access the current price of each coin, and store each in a variable."
   ]
  },
  {
   "cell_type": "code",
   "execution_count": 219,
   "metadata": {},
   "outputs": [
    {
     "data": {
      "text/plain": [
       "64005.0"
      ]
     },
     "execution_count": 219,
     "metadata": {},
     "output_type": "execute_result"
    }
   ],
   "source": [
    "# Navigate the BTC response object to access the current price of BTC\n",
    "btc_price = btc_response['data']['1']['quotes']['USD']['price']\n",
    "# Print the current price of BTC\n",
    "btc_price\n"
   ]
  },
  {
   "cell_type": "code",
   "execution_count": 220,
   "metadata": {},
   "outputs": [
    {
     "data": {
      "text/plain": [
       "3822.14"
      ]
     },
     "execution_count": 220,
     "metadata": {},
     "output_type": "execute_result"
    }
   ],
   "source": [
    "# Navigate the BTC response object to access the current price of ETH\n",
    "eth_price = eth_response['data']['1027']['quotes']['USD']['price']\n",
    "\n",
    "# Print the current price of ETH\n",
    "eth_price\n"
   ]
  },
  {
   "cell_type": "markdown",
   "metadata": {},
   "source": [
    "### Step 4: Calculate the value, in US dollars, of the current amount of each cryptocurrency and of the entire cryptocurrency wallet."
   ]
  },
  {
   "cell_type": "code",
   "execution_count": 221,
   "metadata": {},
   "outputs": [
    {
     "data": {
      "text/plain": [
       "76806.0"
      ]
     },
     "execution_count": 221,
     "metadata": {},
     "output_type": "execute_result"
    }
   ],
   "source": [
    "# Compute the current value of the BTC holding \n",
    "btc_value = btc_coins * btc_price\n",
    "\n",
    "# Print current value of your holding in BTC\n",
    "btc_value\n"
   ]
  },
  {
   "cell_type": "code",
   "execution_count": 222,
   "metadata": {},
   "outputs": [
    {
     "data": {
      "text/plain": [
       "20257.341999999997"
      ]
     },
     "execution_count": 222,
     "metadata": {},
     "output_type": "execute_result"
    }
   ],
   "source": [
    "# Compute the current value of the ETH holding \n",
    "eth_value = eth_coins * eth_price\n",
    "\n",
    "# Print current value of your holding in ETH\n",
    "eth_value\n"
   ]
  },
  {
   "cell_type": "code",
   "execution_count": 223,
   "metadata": {},
   "outputs": [
    {
     "data": {
      "text/plain": [
       "97063.342"
      ]
     },
     "execution_count": 223,
     "metadata": {},
     "output_type": "execute_result"
    }
   ],
   "source": [
    "# Compute the total value of the cryptocurrency wallet\n",
    "# Add the value of the BTC holding to the value of the ETH holding\n",
    "total_crypto_wallet = btc_value + eth_value\n",
    "\n",
    "# Print current cryptocurrency wallet balance\n",
    "total_crypto_wallet\n"
   ]
  },
  {
   "cell_type": "markdown",
   "metadata": {},
   "source": [
    "### Evaluate the Stock and Bond Holdings by Using the Alpaca SDK\n",
    "\n",
    "In this section, you’ll determine the current value of a member’s stock and bond holdings. You’ll make an API call to Alpaca via the Alpaca SDK to get the current closing prices of the SPDR S&P 500 ETF Trust (ticker: SPY) and of the iShares Core US Aggregate Bond ETF (ticker: AGG). For the prototype, assume that the member holds 110 shares of SPY, which represents the stock portion of their portfolio, and 200 shares of AGG, which represents the bond portion. To do all this, complete the following steps:\n",
    "\n",
    "1. In the `Starter_Code` folder, create an environment file (`.env`) to store the values of your Alpaca API key and Alpaca secret key.\n",
    "\n",
    "2. Set the variables for the Alpaca API and secret keys. Using the Alpaca SDK, create the Alpaca `tradeapi.REST` object. In this object, include the parameters for the Alpaca API key, the secret key, and the version number.\n",
    "\n",
    "3. Set the following parameters for the Alpaca API call:\n",
    "\n",
    "    - `tickers`: Use the tickers for the member’s stock and bond holdings.\n",
    "\n",
    "    - `timeframe`: Use a time frame of one day.\n",
    "\n",
    "    - `start_date` and `end_date`: Use the same date for these parameters, and format them with the date of the previous weekday (or `2020-08-07`). This is because you want the one closing price for the most-recent trading day.\n",
    "\n",
    "4. Get the current closing prices for `SPY` and `AGG` by using the Alpaca `get_barset` function. Format the response as a Pandas DataFrame by including the `df` property at the end of the `get_barset` function.\n",
    "\n",
    "5. Navigating the Alpaca response DataFrame, select the `SPY` and `AGG` closing prices, and store them as variables.\n",
    "\n",
    "6. Calculate the value, in US dollars, of the current amount of shares in each of the stock and bond portions of the portfolio, and print the results.\n"
   ]
  },
  {
   "cell_type": "markdown",
   "metadata": {},
   "source": [
    "#### Review the total number of shares held in both (SPY) and (AGG)."
   ]
  },
  {
   "cell_type": "code",
   "execution_count": 224,
   "metadata": {},
   "outputs": [],
   "source": [
    "import os\n",
    "import requests\n",
    "import json\n",
    "import pandas as pd\n",
    "from dotenv import load_dotenv\n",
    "import alpaca_trade_api as tradeapi\n",
    "from MCForecastTools import MCSimulation\n",
    "import numpy as np\n",
    "import pandas as pd\n",
    "import os\n",
    "import alpaca_trade_api as tradeapi\n",
    "import datetime as dt\n",
    "import pytz\n",
    "# print(json)\n",
    "\n",
    "%matplotlib inline"
   ]
  },
  {
   "cell_type": "code",
   "execution_count": 225,
   "metadata": {},
   "outputs": [],
   "source": [
    "# Current amount of shares held in both the stock (SPY) and bond (AGG) portion of the portfolio.\n",
    "spy_shares = 110\n",
    "agg_shares = 200\n"
   ]
  },
  {
   "cell_type": "markdown",
   "metadata": {},
   "source": [
    "#### Step 1: In the `Starter_Code` folder, create an environment file (`.env`) to store the values of your Alpaca API key and Alpaca secret key."
   ]
  },
  {
   "cell_type": "markdown",
   "metadata": {},
   "source": [
    "#### Step 2: Set the variables for the Alpaca API and secret keys. Using the Alpaca SDK, create the Alpaca `tradeapi.REST` object. In this object, include the parameters for the Alpaca API key, the secret key, and the version number."
   ]
  },
  {
   "cell_type": "code",
   "execution_count": 226,
   "metadata": {},
   "outputs": [],
   "source": [
    "# Set the variables for the Alpaca API and secret keys\n",
    "\n",
    "\n",
    "\n",
    "alpaca_api_key=os.getenv(\"Alpaca_api_key\")\n",
    "alpaca_secret_key=os.getenv(\"Secret_key\")\n",
    "# spy_shares_request=requests.get().json()\n",
    "# spy_shares=\"https://www.alpaca.markets/api/v2/datasets/SPY.json?limit=10&api_key=\"\n",
    "\n",
    "# spy_pull_request=spy_shares_request + alpaca_api_key\n",
    "# spy_pull_request\n",
    "\n",
    "# Create the Alpaca tradeapi.REST object\n",
    "alpaca = tradeapi.REST(\n",
    "    alpaca_api_key,\n",
    "    alpaca_secret_key,\n",
    "    api_version=\"v2\")\n"
   ]
  },
  {
   "cell_type": "markdown",
   "metadata": {},
   "source": [
    "#### Step 3: Set the following parameters for the Alpaca API call:\n",
    "\n",
    "- `tickers`: Use the tickers for the member’s stock and bond holdings.\n",
    "\n",
    "- `timeframe`: Use a time frame of one day.\n",
    "\n",
    "- `start_date` and `end_date`: Use the same date for these parameters, and format them with the date of the previous weekday (or `2020-08-07`). This is because you want the one closing price for the most-recent trading day.\n"
   ]
  },
  {
   "cell_type": "code",
   "execution_count": 227,
   "metadata": {},
   "outputs": [],
   "source": [
    "# Set the tickers for both the bond and stock portion of the portfolio\n",
    "tickers = [\"SPY\", \"AGG\"]\n",
    "\n",
    "\n",
    "# Set timeframe to 1D \n",
    "timeframe = \"1D\"\n",
    "\n",
    "# Format current date as ISO format\n",
    "# Set both the start and end date at the date of your prior weekday \n",
    "# This will give you the closing price of the previous trading day\n",
    "# Alternatively you can use a start and end date of 2020-08-07\n",
    "start_date = pd.Timestamp(\"2021-10-18\", tz=\"America/New_York\").isoformat()\n",
    "end_date = pd.Timestamp(\"2021-10-18\", tz=\"America/New_York\").isoformat()\n",
    "\n"
   ]
  },
  {
   "cell_type": "markdown",
   "metadata": {},
   "source": [
    "#### Step 4: Get the current closing prices for `SPY` and `AGG` by using the Alpaca `get_barset` function. Format the response as a Pandas DataFrame by including the `df` property at the end of the `get_barset` function."
   ]
  },
  {
   "cell_type": "code",
   "execution_count": 228,
   "metadata": {},
   "outputs": [
    {
     "data": {
      "text/html": [
       "<div>\n",
       "<style scoped>\n",
       "    .dataframe tbody tr th:only-of-type {\n",
       "        vertical-align: middle;\n",
       "    }\n",
       "\n",
       "    .dataframe tbody tr th {\n",
       "        vertical-align: top;\n",
       "    }\n",
       "\n",
       "    .dataframe thead tr th {\n",
       "        text-align: left;\n",
       "    }\n",
       "\n",
       "    .dataframe thead tr:last-of-type th {\n",
       "        text-align: right;\n",
       "    }\n",
       "</style>\n",
       "<table border=\"1\" class=\"dataframe\">\n",
       "  <thead>\n",
       "    <tr>\n",
       "      <th></th>\n",
       "      <th colspan=\"5\" halign=\"left\">AGG</th>\n",
       "      <th colspan=\"5\" halign=\"left\">SPY</th>\n",
       "    </tr>\n",
       "    <tr>\n",
       "      <th></th>\n",
       "      <th>open</th>\n",
       "      <th>high</th>\n",
       "      <th>low</th>\n",
       "      <th>close</th>\n",
       "      <th>volume</th>\n",
       "      <th>open</th>\n",
       "      <th>high</th>\n",
       "      <th>low</th>\n",
       "      <th>close</th>\n",
       "      <th>volume</th>\n",
       "    </tr>\n",
       "    <tr>\n",
       "      <th>time</th>\n",
       "      <th></th>\n",
       "      <th></th>\n",
       "      <th></th>\n",
       "      <th></th>\n",
       "      <th></th>\n",
       "      <th></th>\n",
       "      <th></th>\n",
       "      <th></th>\n",
       "      <th></th>\n",
       "      <th></th>\n",
       "    </tr>\n",
       "  </thead>\n",
       "  <tbody>\n",
       "    <tr>\n",
       "      <th>2021-10-18 00:00:00-04:00</th>\n",
       "      <td>114.33</td>\n",
       "      <td>114.56</td>\n",
       "      <td>114.25</td>\n",
       "      <td>114.49</td>\n",
       "      <td>5145953</td>\n",
       "      <td>443.97</td>\n",
       "      <td>447.55</td>\n",
       "      <td>443.27</td>\n",
       "      <td>447.22</td>\n",
       "      <td>51994387</td>\n",
       "    </tr>\n",
       "  </tbody>\n",
       "</table>\n",
       "</div>"
      ],
      "text/plain": [
       "                              AGG                                      SPY  \\\n",
       "                             open    high     low   close   volume    open   \n",
       "time                                                                         \n",
       "2021-10-18 00:00:00-04:00  114.33  114.56  114.25  114.49  5145953  443.97   \n",
       "\n",
       "                                                             \n",
       "                             high     low   close    volume  \n",
       "time                                                         \n",
       "2021-10-18 00:00:00-04:00  447.55  443.27  447.22  51994387  "
      ]
     },
     "execution_count": 228,
     "metadata": {},
     "output_type": "execute_result"
    }
   ],
   "source": [
    "# Use the Alpaca get_barset function to get current closing prices the portfolio\n",
    "# Be sure to set the `df` property after the function to format the response object as a DataFrame\n",
    "df_portfolio = alpaca.get_barset(\n",
    "    tickers,\n",
    "    timeframe,\n",
    "    start = start_date,\n",
    "    end = end_date\n",
    ").df\n",
    "\n",
    "\n",
    "# Review the first 5 rows of the Alpaca DataFrame\n",
    "df_portfolio.head(5)\n"
   ]
  },
  {
   "cell_type": "markdown",
   "metadata": {},
   "source": [
    "#### Step 5: Navigating the Alpaca response DataFrame, select the `SPY` and `AGG` closing prices, and store them as variables."
   ]
  },
  {
   "cell_type": "code",
   "execution_count": 229,
   "metadata": {},
   "outputs": [
    {
     "data": {
      "text/plain": [
       "time\n",
       "2021-10-18 00:00:00-04:00    114.49\n",
       "Name: close, dtype: float64"
      ]
     },
     "execution_count": 229,
     "metadata": {},
     "output_type": "execute_result"
    }
   ],
   "source": [
    "# Access the closing price for AGG from the Alpaca DataFrame\n",
    "# Converting the value to a floating point number\n",
    "agg_close_price = df_portfolio[\"AGG\"][\"close\"]\n",
    "\n",
    "# Print the AGG closing price\n",
    "agg_close_price\n"
   ]
  },
  {
   "cell_type": "code",
   "execution_count": 230,
   "metadata": {},
   "outputs": [
    {
     "data": {
      "text/plain": [
       "time\n",
       "2021-10-18 00:00:00-04:00    447.22\n",
       "Name: close, dtype: float64"
      ]
     },
     "execution_count": 230,
     "metadata": {},
     "output_type": "execute_result"
    }
   ],
   "source": [
    "# Access the closing price for SPY from the Alpaca DataFrame\n",
    "# Converting the value to a floating point number\n",
    "spy_close_price = df_portfolio[\"SPY\"][\"close\"]\n",
    "\n",
    "# Print the SPY closing price\n",
    "spy_close_price\n"
   ]
  },
  {
   "cell_type": "markdown",
   "metadata": {},
   "source": [
    "#### Step 6: Calculate the value, in US dollars, of the current amount of shares in each of the stock and bond portions of the portfolio, and print the results."
   ]
  },
  {
   "cell_type": "code",
   "execution_count": 231,
   "metadata": {},
   "outputs": [
    {
     "data": {
      "text/plain": [
       "time\n",
       "2021-10-18 00:00:00-04:00    22898.0\n",
       "Name: close, dtype: float64"
      ]
     },
     "execution_count": 231,
     "metadata": {},
     "output_type": "execute_result"
    }
   ],
   "source": [
    "# Calculate the current value of the bond portion of the portfolio\n",
    "agg_value = agg_close_price * agg_shares\n",
    "\n",
    "# Print the current value of the bond portfolio\n",
    "agg_value\n"
   ]
  },
  {
   "cell_type": "code",
   "execution_count": 232,
   "metadata": {},
   "outputs": [
    {
     "data": {
      "text/plain": [
       "time\n",
       "2021-10-18 00:00:00-04:00    49194.2\n",
       "Name: close, dtype: float64"
      ]
     },
     "execution_count": 232,
     "metadata": {},
     "output_type": "execute_result"
    }
   ],
   "source": [
    "# Calculate the current value of the stock portion of the portfolio\n",
    "spy_value = spy_close_price * spy_shares\n",
    "\n",
    "# Print the current value of the stock portfolio\n",
    "spy_value\n"
   ]
  },
  {
   "cell_type": "code",
   "execution_count": 233,
   "metadata": {},
   "outputs": [
    {
     "data": {
      "text/plain": [
       "time\n",
       "2021-10-18 00:00:00-04:00    72092.2\n",
       "Name: close, dtype: float64"
      ]
     },
     "execution_count": 233,
     "metadata": {},
     "output_type": "execute_result"
    }
   ],
   "source": [
    "# Calculate the total value of the stock and bond portion of the portfolio\n",
    "total_stocks_bonds = agg_value + spy_value\n",
    "\n",
    "# Print the current balance of the stock and bond portion of the portfolio\n",
    "total_stocks_bonds\n"
   ]
  },
  {
   "cell_type": "code",
   "execution_count": 234,
   "metadata": {},
   "outputs": [
    {
     "data": {
      "text/plain": [
       "time\n",
       "2021-10-18 00:00:00-04:00    169155.542\n",
       "Name: close, dtype: float64"
      ]
     },
     "execution_count": 234,
     "metadata": {},
     "output_type": "execute_result"
    }
   ],
   "source": [
    "# Calculate the total value of the member's entire savings portfolio\n",
    "# Add the value of the cryptocurrency walled to the value of the total stocks and bonds\n",
    "total_portfolio = total_stocks_bonds + total_crypto_wallet\n",
    "\n",
    "# Print current cryptocurrency wallet balance\n",
    "total_portfolio\n"
   ]
  },
  {
   "cell_type": "markdown",
   "metadata": {},
   "source": [
    "### Evaluate the Emergency Fund\n",
    "\n",
    "In this section, you’ll use the valuations for the cryptocurrency wallet and for the stock and bond portions of the portfolio to determine if the credit union member has enough savings to build an emergency fund into their financial plan. To do this, complete the following steps:\n",
    "\n",
    "1. Create a Python list named `savings_data` that has two elements. The first element contains the total value of the cryptocurrency wallet. The second element contains the total value of the stock and bond portions of the portfolio.\n",
    "\n",
    "2. Use the `savings_data` list to create a Pandas DataFrame named `savings_df`, and then display this DataFrame. The function to create the DataFrame should take the following three parameters:\n",
    "\n",
    "    - `savings_data`: Use the list that you just created.\n",
    "\n",
    "    - `columns`: Set this parameter equal to a Python list with a single value called `amount`.\n",
    "\n",
    "    - `index`: Set this parameter equal to a Python list with the values of `crypto` and `stock/bond`.\n",
    "\n",
    "3. Use the `savings_df` DataFrame to plot a pie chart that visualizes the composition of the member’s portfolio. The y-axis of the pie chart uses `amount`. Be sure to add a title.\n",
    "\n",
    "4. Using Python, determine if the current portfolio has enough to create an emergency fund as part of the member’s financial plan. Ideally, an emergency fund should equal to three times the member’s monthly income. To do this, implement the following steps:\n",
    "\n",
    "    1. Create a variable named `emergency_fund_value`, and set it equal to three times the value of the member’s `monthly_income` of $12000. (You set this earlier in Part 1).\n",
    "\n",
    "    2. Create a series of three if statements to determine if the member’s total portfolio is large enough to fund the emergency portfolio:\n",
    "\n",
    "        1. If the total portfolio value is greater than the emergency fund value, display a message congratulating the member for having enough money in this fund.\n",
    "\n",
    "        2. Else if the total portfolio value is equal to the emergency fund value, display a message congratulating the member on reaching this important financial goal.\n",
    "\n",
    "        3. Else the total portfolio is less than the emergency fund value, so display a message showing how many dollars away the member is from reaching the goal. (Subtract the total portfolio value from the emergency fund value.)\n"
   ]
  },
  {
   "cell_type": "markdown",
   "metadata": {},
   "source": [
    "#### Step 1: Create a Python list named `savings_data` that has two elements. The first element contains the total value of the cryptocurrency wallet. The second element contains the total value of the stock and bond portions of the portfolio."
   ]
  },
  {
   "cell_type": "code",
   "execution_count": 235,
   "metadata": {},
   "outputs": [
    {
     "data": {
      "text/plain": [
       "[96067.125, 72092.2]"
      ]
     },
     "execution_count": 235,
     "metadata": {},
     "output_type": "execute_result"
    }
   ],
   "source": [
    "# Consolidate financial assets data into a Python list\n",
    "savings_data = [96067.125,72092.2]\n",
    "\n",
    "# Review the Python list savings_data\n",
    "savings_data\n",
    "    "
   ]
  },
  {
   "cell_type": "markdown",
   "metadata": {},
   "source": [
    "#### Step 2: Use the `savings_data` list to create a Pandas DataFrame named `savings_df`, and then display this DataFrame. The function to create the DataFrame should take the following three parameters:\n",
    "\n",
    "- `savings_data`: Use the list that you just created.\n",
    "\n",
    "- `columns`: Set this parameter equal to a Python list with a single value called `amount`.\n",
    "\n",
    "- `index`: Set this parameter equal to a Python list with the values of `crypto` and `stock/bond`.\n"
   ]
  },
  {
   "cell_type": "code",
   "execution_count": 236,
   "metadata": {},
   "outputs": [
    {
     "data": {
      "text/html": [
       "<div>\n",
       "<style scoped>\n",
       "    .dataframe tbody tr th:only-of-type {\n",
       "        vertical-align: middle;\n",
       "    }\n",
       "\n",
       "    .dataframe tbody tr th {\n",
       "        vertical-align: top;\n",
       "    }\n",
       "\n",
       "    .dataframe thead th {\n",
       "        text-align: right;\n",
       "    }\n",
       "</style>\n",
       "<table border=\"1\" class=\"dataframe\">\n",
       "  <thead>\n",
       "    <tr style=\"text-align: right;\">\n",
       "      <th></th>\n",
       "      <th>amount</th>\n",
       "    </tr>\n",
       "  </thead>\n",
       "  <tbody>\n",
       "    <tr>\n",
       "      <th>crypto</th>\n",
       "      <td>96067.125</td>\n",
       "    </tr>\n",
       "    <tr>\n",
       "      <th>stock/bonds</th>\n",
       "      <td>72092.200</td>\n",
       "    </tr>\n",
       "  </tbody>\n",
       "</table>\n",
       "</div>"
      ],
      "text/plain": [
       "                amount\n",
       "crypto       96067.125\n",
       "stock/bonds  72092.200"
      ]
     },
     "execution_count": 236,
     "metadata": {},
     "output_type": "execute_result"
    }
   ],
   "source": [
    "# Create a Pandas DataFrame called savings_df \n",
    "\n",
    "savings_df = pd.DataFrame(savings_data)\n",
    "savings_df.index = [\"crypto\", \"stock/bonds\"]\n",
    "savings_df.columns = [\"amount\"]\n",
    "\n",
    "#amount = [savings_data]\n",
    "# print(amount)\n",
    "\n",
    "#title = [\"crypto\" , \"stocks/bonds\"]\n",
    "# print(title)\n",
    "\n",
    "#savings_df = pd.DataFrame(savings_data)\n",
    "    \n",
    "\n",
    "# # Display the savings_df DataFrame\n",
    "savings_df"
   ]
  },
  {
   "cell_type": "markdown",
   "metadata": {},
   "source": [
    "#### Step 3: Use the `savings_df` DataFrame to plot a pie chart that visualizes the composition of the member’s portfolio. The y-axis of the pie chart uses `amount`. Be sure to add a title."
   ]
  },
  {
   "cell_type": "code",
   "execution_count": 251,
   "metadata": {},
   "outputs": [
    {
     "data": {
      "text/plain": [
       "<AxesSubplot:ylabel='Total Portfolio'>"
      ]
     },
     "execution_count": 251,
     "metadata": {},
     "output_type": "execute_result"
    },
    {
     "data": {
      "image/png": "[encoded data removed]",
      "text/plain": [
       "<Figure size 432x288 with 1 Axes>"
      ]
     },
     "metadata": {},
     "output_type": "display_data"
    }
   ],
   "source": [
    "# Plot the total value of the member's portfolio (crypto and stock/bond) in a pie chart\n",
    "savings_df['amount'].plot.pie(label=\"Total Portfolio\")\n"
   ]
  },
  {
   "cell_type": "markdown",
   "metadata": {},
   "source": [
    "#### Step 4: Using Python, determine if the current portfolio has enough to create an emergency fund as part of the member’s financial plan. Ideally, an emergency fund should equal to three times the member’s monthly income. To do this, implement the following steps:\n",
    "\n",
    "Step 1. Create a variable named `emergency_fund_value`, and set it equal to three times the value of the member’s `monthly_income` of 12000. (You set this earlier in Part 1).\n",
    "\n",
    "Step 2. Create a series of three if statements to determine if the member’s total portfolio is large enough to fund the emergency portfolio:\n",
    "\n",
    "* If the total portfolio value is greater than the emergency fund value, display a message congratulating the member for having enough money in this fund.\n",
    "\n",
    "* Else if the total portfolio value is equal to the emergency fund value, display a message congratulating the member on reaching this important financial goal.\n",
    "\n",
    "* Else the total portfolio is less than the emergency fund value, so display a message showing how many dollars away the member is from reaching the goal. (Subtract the total portfolio value from the emergency fund value.)\n"
   ]
  },
  {
   "cell_type": "markdown",
   "metadata": {},
   "source": [
    "##### Step 4-1: Create a variable named `emergency_fund_value`, and set it equal to three times the value of the member’s `monthly_income` of 12000. (You set this earlier in Part 1)."
   ]
  },
  {
   "cell_type": "code",
   "execution_count": 252,
   "metadata": {},
   "outputs": [
    {
     "data": {
      "text/plain": [
       "36000"
      ]
     },
     "execution_count": 252,
     "metadata": {},
     "output_type": "execute_result"
    }
   ],
   "source": [
    "# Create a variable named emergency_fund_value\n",
    "emergency_fund_value = 3 * monthly_income\n",
    "\n"
   ]
  },
  {
   "cell_type": "markdown",
   "metadata": {},
   "source": [
    "##### Step 4-2: Create a series of three if statements to determine if the member’s total portfolio is large enough to fund the emergency portfolio:\n",
    "\n",
    "* If the total portfolio value is greater than the emergency fund value, display a message congratulating the member for having enough money in this fund.\n",
    "\n",
    "* Else if the total portfolio value is equal to the emergency fund value, display a message congratulating the member on reaching this important financial goal.\n",
    "\n",
    "* Else the total portfolio is less than the emergency fund value, so display a message showing how many dollars away the member is from reaching the goal. (Subtract the total portfolio value from the emergency fund value.)"
   ]
  },
  {
   "cell_type": "code",
   "execution_count": 263,
   "metadata": {},
   "outputs": [
    {
     "name": "stdout",
     "output_type": "stream",
     "text": [
      "You have enough money for an emergency fund\n"
     ]
    }
   ],
   "source": [
    "# Evaluate the possibility of creating an emergency fund with 3 conditions:\n",
    "if \"total_portfolio\" > \"emergency_fund_value\":\n",
    "    print(\"You have enough money for an emergency fund\")\n",
    "elif \"total_portfolio\" == \"emergency_fund_value\":\n",
    "    print(\"Congratlations on your portfolio growth\")\n",
    "else:\n",
    "    print(\"You do not have enough money for an emergency fund\")\n",
    "# YOUR CODE HERE\n"
   ]
  },
  {
   "cell_type": "markdown",
   "metadata": {},
   "source": [
    "## Part 2: Create a Financial Planner for Retirement"
   ]
  },
  {
   "cell_type": "markdown",
   "metadata": {},
   "source": [
    "### Create the Monte Carlo Simulation\n",
    "\n",
    "In this section, you’ll use the MCForecastTools library to create a Monte Carlo simulation for the member’s savings portfolio. To do this, complete the following steps:\n",
    "\n",
    "1. Make an API call via the Alpaca SDK to get 3 years of historical closing prices for a traditional 60/40 portfolio split: 60% stocks (SPY) and 40% bonds (AGG).\n",
    "\n",
    "2. Run a Monte Carlo simulation of 500 samples and 30 years for the 60/40 portfolio, and then plot the results.The following image shows the overlay line plot resulting from a simulation with these characteristics. However, because a random number generator is used to run each live Monte Carlo simulation, your image will differ slightly from this exact image:\n",
    "\n",
    "![A screenshot depicts the resulting plot.](Images/5-4-monte-carlo-line-plot.png)\n",
    "\n",
    "3. Plot the probability distribution of the Monte Carlo simulation. Plot the probability distribution of the Monte Carlo simulation. The following image shows the histogram plot resulting from a simulation with these characteristics. However, because a random number generator is used to run each live Monte Carlo simulation, your image will differ slightly from this exact image:\n",
    "\n",
    "![A screenshot depicts the histogram plot.](Images/5-4-monte-carlo-histogram.png)\n",
    "\n",
    "4. Generate the summary statistics for the Monte Carlo simulation.\n",
    "\n"
   ]
  },
  {
   "cell_type": "markdown",
   "metadata": {},
   "source": [
    "#### Step 1: Make an API call via the Alpaca SDK to get 3 years of historical closing prices for a traditional 60/40 portfolio split: 60% stocks (SPY) and 40% bonds (AGG)."
   ]
  },
  {
   "cell_type": "code",
   "execution_count": 270,
   "metadata": {},
   "outputs": [],
   "source": [
    "# Set start and end dates of 3 years back from your current date\n",
    "# Alternatively, you can use an end date of 2020-08-07 and work 3 years back from that date \n",
    "start_date = pd.Timestamp(\"2017-10-18\", tz=\"America/New_York\").isoformat()\n",
    "end_date = pd.Timestamp(\"2021-10-20\", tz=\"America/New_York\").isoformat()\n",
    "\n",
    "\n",
    "# Set number of rows to 1000 to retrieve the maximum amount of rows\n",
    "rows = 1000"
   ]
  },
  {
   "cell_type": "code",
   "execution_count": 275,
   "metadata": {},
   "outputs": [
    {
     "data": {
      "text/html": [
       "<div>\n",
       "<style scoped>\n",
       "    .dataframe tbody tr th:only-of-type {\n",
       "        vertical-align: middle;\n",
       "    }\n",
       "\n",
       "    .dataframe tbody tr th {\n",
       "        vertical-align: top;\n",
       "    }\n",
       "\n",
       "    .dataframe thead tr th {\n",
       "        text-align: left;\n",
       "    }\n",
       "\n",
       "    .dataframe thead tr:last-of-type th {\n",
       "        text-align: right;\n",
       "    }\n",
       "</style>\n",
       "<table border=\"1\" class=\"dataframe\">\n",
       "  <thead>\n",
       "    <tr>\n",
       "      <th></th>\n",
       "      <th colspan=\"5\" halign=\"left\">AGG</th>\n",
       "      <th colspan=\"5\" halign=\"left\">SPY</th>\n",
       "    </tr>\n",
       "    <tr>\n",
       "      <th></th>\n",
       "      <th>open</th>\n",
       "      <th>high</th>\n",
       "      <th>low</th>\n",
       "      <th>close</th>\n",
       "      <th>volume</th>\n",
       "      <th>open</th>\n",
       "      <th>high</th>\n",
       "      <th>low</th>\n",
       "      <th>close</th>\n",
       "      <th>volume</th>\n",
       "    </tr>\n",
       "    <tr>\n",
       "      <th>time</th>\n",
       "      <th></th>\n",
       "      <th></th>\n",
       "      <th></th>\n",
       "      <th></th>\n",
       "      <th></th>\n",
       "      <th></th>\n",
       "      <th></th>\n",
       "      <th></th>\n",
       "      <th></th>\n",
       "      <th></th>\n",
       "    </tr>\n",
       "  </thead>\n",
       "  <tbody>\n",
       "    <tr>\n",
       "      <th>2021-10-14 00:00:00-04:00</th>\n",
       "      <td>114.70</td>\n",
       "      <td>114.8496</td>\n",
       "      <td>114.63</td>\n",
       "      <td>114.84</td>\n",
       "      <td>3540673.0</td>\n",
       "      <td>439.08</td>\n",
       "      <td>442.660</td>\n",
       "      <td>438.58</td>\n",
       "      <td>442.47</td>\n",
       "      <td>59812568.0</td>\n",
       "    </tr>\n",
       "    <tr>\n",
       "      <th>2021-10-15 00:00:00-04:00</th>\n",
       "      <td>114.61</td>\n",
       "      <td>114.6300</td>\n",
       "      <td>114.51</td>\n",
       "      <td>114.56</td>\n",
       "      <td>3829388.0</td>\n",
       "      <td>444.76</td>\n",
       "      <td>446.260</td>\n",
       "      <td>444.09</td>\n",
       "      <td>445.83</td>\n",
       "      <td>55980388.0</td>\n",
       "    </tr>\n",
       "    <tr>\n",
       "      <th>2021-10-18 00:00:00-04:00</th>\n",
       "      <td>114.33</td>\n",
       "      <td>114.5600</td>\n",
       "      <td>114.25</td>\n",
       "      <td>114.49</td>\n",
       "      <td>5145953.0</td>\n",
       "      <td>443.97</td>\n",
       "      <td>447.550</td>\n",
       "      <td>443.27</td>\n",
       "      <td>447.22</td>\n",
       "      <td>51994387.0</td>\n",
       "    </tr>\n",
       "    <tr>\n",
       "      <th>2021-10-19 00:00:00-04:00</th>\n",
       "      <td>114.37</td>\n",
       "      <td>114.3700</td>\n",
       "      <td>114.16</td>\n",
       "      <td>114.18</td>\n",
       "      <td>3999066.0</td>\n",
       "      <td>448.92</td>\n",
       "      <td>450.700</td>\n",
       "      <td>448.27</td>\n",
       "      <td>450.68</td>\n",
       "      <td>40790864.0</td>\n",
       "    </tr>\n",
       "    <tr>\n",
       "      <th>2021-10-20 00:00:00-04:00</th>\n",
       "      <td>114.17</td>\n",
       "      <td>114.2900</td>\n",
       "      <td>114.06</td>\n",
       "      <td>114.07</td>\n",
       "      <td>5881766.0</td>\n",
       "      <td>451.13</td>\n",
       "      <td>452.732</td>\n",
       "      <td>451.01</td>\n",
       "      <td>452.39</td>\n",
       "      <td>41594298.0</td>\n",
       "    </tr>\n",
       "  </tbody>\n",
       "</table>\n",
       "</div>"
      ],
      "text/plain": [
       "                              AGG                                       \\\n",
       "                             open      high     low   close     volume   \n",
       "time                                                                     \n",
       "2021-10-14 00:00:00-04:00  114.70  114.8496  114.63  114.84  3540673.0   \n",
       "2021-10-15 00:00:00-04:00  114.61  114.6300  114.51  114.56  3829388.0   \n",
       "2021-10-18 00:00:00-04:00  114.33  114.5600  114.25  114.49  5145953.0   \n",
       "2021-10-19 00:00:00-04:00  114.37  114.3700  114.16  114.18  3999066.0   \n",
       "2021-10-20 00:00:00-04:00  114.17  114.2900  114.06  114.07  5881766.0   \n",
       "\n",
       "                              SPY                                       \n",
       "                             open     high     low   close      volume  \n",
       "time                                                                    \n",
       "2021-10-14 00:00:00-04:00  439.08  442.660  438.58  442.47  59812568.0  \n",
       "2021-10-15 00:00:00-04:00  444.76  446.260  444.09  445.83  55980388.0  \n",
       "2021-10-18 00:00:00-04:00  443.97  447.550  443.27  447.22  51994387.0  \n",
       "2021-10-19 00:00:00-04:00  448.92  450.700  448.27  450.68  40790864.0  \n",
       "2021-10-20 00:00:00-04:00  451.13  452.732  451.01  452.39  41594298.0  "
      ]
     },
     "execution_count": 275,
     "metadata": {},
     "output_type": "execute_result"
    }
   ],
   "source": [
    "# Use the Alpaca get_barset function to make the API call to get the 3 years worth of pricing data\n",
    "# The tickers and timeframe parameters should have been set in Part 1 of this activity \n",
    "# The start and end dates should be updated with the information set above\n",
    "# Remember to add the df property to the end of the call so the response is returned as a DataFrame\n",
    "df_portfolio = alpaca.get_barset(\n",
    "    tickers,\n",
    "    timeframe,\n",
    "    start = start_date,\n",
    "    end = end_date,\n",
    "    limit = rows\n",
    ").df\n",
    "\n",
    "\n",
    "# Display both the first and last five rows of the DataFrame\n",
    "df_portfolio.head()\n",
    "df_portfolio.tail()\n"
   ]
  },
  {
   "cell_type": "markdown",
   "metadata": {},
   "source": [
    "#### Step 2: Run a Monte Carlo simulation of 500 samples and 30 years for the 60/40 portfolio, and then plot the results."
   ]
  },
  {
   "cell_type": "code",
   "execution_count": 300,
   "metadata": {},
   "outputs": [
    {
     "data": {
      "text/html": [
       "<div>\n",
       "<style scoped>\n",
       "    .dataframe tbody tr th:only-of-type {\n",
       "        vertical-align: middle;\n",
       "    }\n",
       "\n",
       "    .dataframe tbody tr th {\n",
       "        vertical-align: top;\n",
       "    }\n",
       "\n",
       "    .dataframe thead tr th {\n",
       "        text-align: left;\n",
       "    }\n",
       "\n",
       "    .dataframe thead tr:last-of-type th {\n",
       "        text-align: right;\n",
       "    }\n",
       "</style>\n",
       "<table border=\"1\" class=\"dataframe\">\n",
       "  <thead>\n",
       "    <tr>\n",
       "      <th></th>\n",
       "      <th colspan=\"6\" halign=\"left\">AGG</th>\n",
       "      <th colspan=\"6\" halign=\"left\">SPY</th>\n",
       "    </tr>\n",
       "    <tr>\n",
       "      <th></th>\n",
       "      <th>open</th>\n",
       "      <th>high</th>\n",
       "      <th>low</th>\n",
       "      <th>close</th>\n",
       "      <th>volume</th>\n",
       "      <th>daily_return</th>\n",
       "      <th>open</th>\n",
       "      <th>high</th>\n",
       "      <th>low</th>\n",
       "      <th>close</th>\n",
       "      <th>volume</th>\n",
       "      <th>daily_return</th>\n",
       "    </tr>\n",
       "    <tr>\n",
       "      <th>time</th>\n",
       "      <th></th>\n",
       "      <th></th>\n",
       "      <th></th>\n",
       "      <th></th>\n",
       "      <th></th>\n",
       "      <th></th>\n",
       "      <th></th>\n",
       "      <th></th>\n",
       "      <th></th>\n",
       "      <th></th>\n",
       "      <th></th>\n",
       "      <th></th>\n",
       "    </tr>\n",
       "  </thead>\n",
       "  <tbody>\n",
       "    <tr>\n",
       "      <th>2017-10-30 00:00:00-04:00</th>\n",
       "      <td>109.43</td>\n",
       "      <td>109.560</td>\n",
       "      <td>109.360</td>\n",
       "      <td>109.53</td>\n",
       "      <td>1719161.0</td>\n",
       "      <td>NaN</td>\n",
       "      <td>NaN</td>\n",
       "      <td>NaN</td>\n",
       "      <td>NaN</td>\n",
       "      <td>NaN</td>\n",
       "      <td>NaN</td>\n",
       "      <td>NaN</td>\n",
       "    </tr>\n",
       "    <tr>\n",
       "      <th>2017-10-31 00:00:00-04:00</th>\n",
       "      <td>109.52</td>\n",
       "      <td>109.550</td>\n",
       "      <td>109.440</td>\n",
       "      <td>109.45</td>\n",
       "      <td>2427946.0</td>\n",
       "      <td>-0.000730</td>\n",
       "      <td>257.18</td>\n",
       "      <td>257.44</td>\n",
       "      <td>256.805</td>\n",
       "      <td>257.11</td>\n",
       "      <td>35711419.0</td>\n",
       "      <td>NaN</td>\n",
       "    </tr>\n",
       "    <tr>\n",
       "      <th>2017-11-01 00:00:00-04:00</th>\n",
       "      <td>109.17</td>\n",
       "      <td>109.410</td>\n",
       "      <td>109.170</td>\n",
       "      <td>109.29</td>\n",
       "      <td>2289204.0</td>\n",
       "      <td>-0.001462</td>\n",
       "      <td>258.04</td>\n",
       "      <td>258.43</td>\n",
       "      <td>257.070</td>\n",
       "      <td>257.51</td>\n",
       "      <td>40454406.0</td>\n",
       "      <td>0.001556</td>\n",
       "    </tr>\n",
       "    <tr>\n",
       "      <th>2017-11-02 00:00:00-04:00</th>\n",
       "      <td>109.35</td>\n",
       "      <td>109.495</td>\n",
       "      <td>109.331</td>\n",
       "      <td>109.36</td>\n",
       "      <td>1870711.0</td>\n",
       "      <td>0.000640</td>\n",
       "      <td>257.41</td>\n",
       "      <td>257.75</td>\n",
       "      <td>256.190</td>\n",
       "      <td>257.61</td>\n",
       "      <td>42432046.0</td>\n",
       "      <td>0.000388</td>\n",
       "    </tr>\n",
       "    <tr>\n",
       "      <th>2017-11-03 00:00:00-04:00</th>\n",
       "      <td>109.48</td>\n",
       "      <td>109.480</td>\n",
       "      <td>109.290</td>\n",
       "      <td>109.46</td>\n",
       "      <td>1511462.0</td>\n",
       "      <td>0.000914</td>\n",
       "      <td>257.78</td>\n",
       "      <td>258.50</td>\n",
       "      <td>257.300</td>\n",
       "      <td>258.44</td>\n",
       "      <td>38008582.0</td>\n",
       "      <td>0.003222</td>\n",
       "    </tr>\n",
       "  </tbody>\n",
       "</table>\n",
       "</div>"
      ],
      "text/plain": [
       "                              AGG                                       \\\n",
       "                             open     high      low   close     volume   \n",
       "time                                                                     \n",
       "2017-10-30 00:00:00-04:00  109.43  109.560  109.360  109.53  1719161.0   \n",
       "2017-10-31 00:00:00-04:00  109.52  109.550  109.440  109.45  2427946.0   \n",
       "2017-11-01 00:00:00-04:00  109.17  109.410  109.170  109.29  2289204.0   \n",
       "2017-11-02 00:00:00-04:00  109.35  109.495  109.331  109.36  1870711.0   \n",
       "2017-11-03 00:00:00-04:00  109.48  109.480  109.290  109.46  1511462.0   \n",
       "\n",
       "                                           SPY                           \\\n",
       "                          daily_return    open    high      low   close   \n",
       "time                                                                      \n",
       "2017-10-30 00:00:00-04:00          NaN     NaN     NaN      NaN     NaN   \n",
       "2017-10-31 00:00:00-04:00    -0.000730  257.18  257.44  256.805  257.11   \n",
       "2017-11-01 00:00:00-04:00    -0.001462  258.04  258.43  257.070  257.51   \n",
       "2017-11-02 00:00:00-04:00     0.000640  257.41  257.75  256.190  257.61   \n",
       "2017-11-03 00:00:00-04:00     0.000914  257.78  258.50  257.300  258.44   \n",
       "\n",
       "                                                    \n",
       "                               volume daily_return  \n",
       "time                                                \n",
       "2017-10-30 00:00:00-04:00         NaN          NaN  \n",
       "2017-10-31 00:00:00-04:00  35711419.0          NaN  \n",
       "2017-11-01 00:00:00-04:00  40454406.0     0.001556  \n",
       "2017-11-02 00:00:00-04:00  42432046.0     0.000388  \n",
       "2017-11-03 00:00:00-04:00  38008582.0     0.003222  "
      ]
     },
     "execution_count": 300,
     "metadata": {},
     "output_type": "execute_result"
    }
   ],
   "source": [
    "# Configure the Monte Carlo simulation to forecast 30 years cumulative returns\n",
    "# The weights should be split 40% to AGG and 60% to SPY.\n",
    "# Run 500 samples.\n",
    "MC_thirtyyear = MCSimulation(\n",
    "  portfolio_data = df_portfolio,\n",
    "  weights = [.40,.60],\n",
    "  num_simulation = 500,\n",
    "  num_trading_days = 252*30\n",
    ")\n",
    "\n",
    "# Review the simulation input data\n",
    "MC_thirtyyear.portfolio_data.head()\n"
   ]
  },
  {
   "cell_type": "code",
   "execution_count": 278,
   "metadata": {},
   "outputs": [
    {
     "name": "stdout",
     "output_type": "stream",
     "text": [
      "Running Monte Carlo simulation number 0.\n",
      "Running Monte Carlo simulation number 10.\n",
      "Running Monte Carlo simulation number 20.\n",
      "Running Monte Carlo simulation number 30.\n",
      "Running Monte Carlo simulation number 40.\n",
      "Running Monte Carlo simulation number 50.\n",
      "Running Monte Carlo simulation number 60.\n",
      "Running Monte Carlo simulation number 70.\n",
      "Running Monte Carlo simulation number 80.\n",
      "Running Monte Carlo simulation number 90.\n",
      "Running Monte Carlo simulation number 100.\n",
      "Running Monte Carlo simulation number 110.\n",
      "Running Monte Carlo simulation number 120.\n",
      "Running Monte Carlo simulation number 130.\n",
      "Running Monte Carlo simulation number 140.\n",
      "Running Monte Carlo simulation number 150.\n",
      "Running Monte Carlo simulation number 160.\n",
      "Running Monte Carlo simulation number 170.\n",
      "Running Monte Carlo simulation number 180.\n",
      "Running Monte Carlo simulation number 190.\n",
      "Running Monte Carlo simulation number 200.\n",
      "Running Monte Carlo simulation number 210.\n",
      "Running Monte Carlo simulation number 220.\n",
      "Running Monte Carlo simulation number 230.\n",
      "Running Monte Carlo simulation number 240.\n",
      "Running Monte Carlo simulation number 250.\n",
      "Running Monte Carlo simulation number 260.\n",
      "Running Monte Carlo simulation number 270.\n",
      "Running Monte Carlo simulation number 280.\n",
      "Running Monte Carlo simulation number 290.\n",
      "Running Monte Carlo simulation number 300.\n",
      "Running Monte Carlo simulation number 310.\n",
      "Running Monte Carlo simulation number 320.\n",
      "Running Monte Carlo simulation number 330.\n",
      "Running Monte Carlo simulation number 340.\n",
      "Running Monte Carlo simulation number 350.\n",
      "Running Monte Carlo simulation number 360.\n",
      "Running Monte Carlo simulation number 370.\n",
      "Running Monte Carlo simulation number 380.\n",
      "Running Monte Carlo simulation number 390.\n",
      "Running Monte Carlo simulation number 400.\n",
      "Running Monte Carlo simulation number 410.\n",
      "Running Monte Carlo simulation number 420.\n",
      "Running Monte Carlo simulation number 430.\n",
      "Running Monte Carlo simulation number 440.\n",
      "Running Monte Carlo simulation number 450.\n",
      "Running Monte Carlo simulation number 460.\n",
      "Running Monte Carlo simulation number 470.\n",
      "Running Monte Carlo simulation number 480.\n",
      "Running Monte Carlo simulation number 490.\n"
     ]
    },
    {
     "data": {
      "text/html": [
       "<div>\n",
       "<style scoped>\n",
       "    .dataframe tbody tr th:only-of-type {\n",
       "        vertical-align: middle;\n",
       "    }\n",
       "\n",
       "    .dataframe tbody tr th {\n",
       "        vertical-align: top;\n",
       "    }\n",
       "\n",
       "    .dataframe thead th {\n",
       "        text-align: right;\n",
       "    }\n",
       "</style>\n",
       "<table border=\"1\" class=\"dataframe\">\n",
       "  <thead>\n",
       "    <tr style=\"text-align: right;\">\n",
       "      <th></th>\n",
       "      <th>0</th>\n",
       "      <th>1</th>\n",
       "      <th>2</th>\n",
       "      <th>3</th>\n",
       "      <th>4</th>\n",
       "      <th>5</th>\n",
       "      <th>6</th>\n",
       "      <th>7</th>\n",
       "      <th>8</th>\n",
       "      <th>9</th>\n",
       "      <th>...</th>\n",
       "      <th>490</th>\n",
       "      <th>491</th>\n",
       "      <th>492</th>\n",
       "      <th>493</th>\n",
       "      <th>494</th>\n",
       "      <th>495</th>\n",
       "      <th>496</th>\n",
       "      <th>497</th>\n",
       "      <th>498</th>\n",
       "      <th>499</th>\n",
       "    </tr>\n",
       "  </thead>\n",
       "  <tbody>\n",
       "    <tr>\n",
       "      <th>0</th>\n",
       "      <td>1.000000</td>\n",
       "      <td>1.000000</td>\n",
       "      <td>1.000000</td>\n",
       "      <td>1.000000</td>\n",
       "      <td>1.000000</td>\n",
       "      <td>1.000000</td>\n",
       "      <td>1.000000</td>\n",
       "      <td>1.000000</td>\n",
       "      <td>1.000000</td>\n",
       "      <td>1.000000</td>\n",
       "      <td>...</td>\n",
       "      <td>1.000000</td>\n",
       "      <td>1.000000</td>\n",
       "      <td>1.000000</td>\n",
       "      <td>1.000000</td>\n",
       "      <td>1.000000</td>\n",
       "      <td>1.000000</td>\n",
       "      <td>1.000000</td>\n",
       "      <td>1.000000</td>\n",
       "      <td>1.000000</td>\n",
       "      <td>1.000000</td>\n",
       "    </tr>\n",
       "    <tr>\n",
       "      <th>1</th>\n",
       "      <td>1.003058</td>\n",
       "      <td>1.010252</td>\n",
       "      <td>1.015057</td>\n",
       "      <td>1.005624</td>\n",
       "      <td>1.005198</td>\n",
       "      <td>0.997985</td>\n",
       "      <td>0.996998</td>\n",
       "      <td>1.004921</td>\n",
       "      <td>1.007746</td>\n",
       "      <td>1.000723</td>\n",
       "      <td>...</td>\n",
       "      <td>1.009315</td>\n",
       "      <td>1.003450</td>\n",
       "      <td>0.999250</td>\n",
       "      <td>1.014248</td>\n",
       "      <td>0.994829</td>\n",
       "      <td>0.992829</td>\n",
       "      <td>1.002114</td>\n",
       "      <td>0.987604</td>\n",
       "      <td>0.998264</td>\n",
       "      <td>0.996438</td>\n",
       "    </tr>\n",
       "    <tr>\n",
       "      <th>2</th>\n",
       "      <td>1.004178</td>\n",
       "      <td>0.999178</td>\n",
       "      <td>1.015458</td>\n",
       "      <td>1.000447</td>\n",
       "      <td>1.014919</td>\n",
       "      <td>1.012942</td>\n",
       "      <td>0.998238</td>\n",
       "      <td>1.020100</td>\n",
       "      <td>1.010759</td>\n",
       "      <td>1.000984</td>\n",
       "      <td>...</td>\n",
       "      <td>1.020652</td>\n",
       "      <td>1.000370</td>\n",
       "      <td>0.987174</td>\n",
       "      <td>1.004300</td>\n",
       "      <td>0.991997</td>\n",
       "      <td>0.995031</td>\n",
       "      <td>1.005587</td>\n",
       "      <td>0.995361</td>\n",
       "      <td>0.994688</td>\n",
       "      <td>1.012778</td>\n",
       "    </tr>\n",
       "    <tr>\n",
       "      <th>3</th>\n",
       "      <td>1.002661</td>\n",
       "      <td>1.010960</td>\n",
       "      <td>1.018767</td>\n",
       "      <td>0.996165</td>\n",
       "      <td>1.001163</td>\n",
       "      <td>1.034073</td>\n",
       "      <td>0.992450</td>\n",
       "      <td>1.029971</td>\n",
       "      <td>1.023713</td>\n",
       "      <td>1.000283</td>\n",
       "      <td>...</td>\n",
       "      <td>1.035804</td>\n",
       "      <td>1.005613</td>\n",
       "      <td>0.989446</td>\n",
       "      <td>1.009972</td>\n",
       "      <td>0.983912</td>\n",
       "      <td>0.997728</td>\n",
       "      <td>1.011426</td>\n",
       "      <td>0.987673</td>\n",
       "      <td>0.977227</td>\n",
       "      <td>1.007626</td>\n",
       "    </tr>\n",
       "    <tr>\n",
       "      <th>4</th>\n",
       "      <td>0.995311</td>\n",
       "      <td>1.022697</td>\n",
       "      <td>1.019564</td>\n",
       "      <td>1.007921</td>\n",
       "      <td>1.001253</td>\n",
       "      <td>1.041737</td>\n",
       "      <td>0.991965</td>\n",
       "      <td>1.028436</td>\n",
       "      <td>1.026438</td>\n",
       "      <td>0.996404</td>\n",
       "      <td>...</td>\n",
       "      <td>1.025828</td>\n",
       "      <td>1.023402</td>\n",
       "      <td>0.985482</td>\n",
       "      <td>0.997196</td>\n",
       "      <td>0.989562</td>\n",
       "      <td>0.995661</td>\n",
       "      <td>1.016717</td>\n",
       "      <td>0.984104</td>\n",
       "      <td>0.982709</td>\n",
       "      <td>1.001596</td>\n",
       "    </tr>\n",
       "    <tr>\n",
       "      <th>...</th>\n",
       "      <td>...</td>\n",
       "      <td>...</td>\n",
       "      <td>...</td>\n",
       "      <td>...</td>\n",
       "      <td>...</td>\n",
       "      <td>...</td>\n",
       "      <td>...</td>\n",
       "      <td>...</td>\n",
       "      <td>...</td>\n",
       "      <td>...</td>\n",
       "      <td>...</td>\n",
       "      <td>...</td>\n",
       "      <td>...</td>\n",
       "      <td>...</td>\n",
       "      <td>...</td>\n",
       "      <td>...</td>\n",
       "      <td>...</td>\n",
       "      <td>...</td>\n",
       "      <td>...</td>\n",
       "      <td>...</td>\n",
       "      <td>...</td>\n",
       "    </tr>\n",
       "    <tr>\n",
       "      <th>7556</th>\n",
       "      <td>18.363914</td>\n",
       "      <td>11.077549</td>\n",
       "      <td>10.486442</td>\n",
       "      <td>18.540209</td>\n",
       "      <td>38.865845</td>\n",
       "      <td>9.732097</td>\n",
       "      <td>12.034147</td>\n",
       "      <td>11.649282</td>\n",
       "      <td>30.388984</td>\n",
       "      <td>7.562521</td>\n",
       "      <td>...</td>\n",
       "      <td>34.963614</td>\n",
       "      <td>13.617929</td>\n",
       "      <td>8.091153</td>\n",
       "      <td>47.954732</td>\n",
       "      <td>20.978143</td>\n",
       "      <td>33.383238</td>\n",
       "      <td>6.960851</td>\n",
       "      <td>13.097061</td>\n",
       "      <td>9.340197</td>\n",
       "      <td>9.951391</td>\n",
       "    </tr>\n",
       "    <tr>\n",
       "      <th>7557</th>\n",
       "      <td>18.311061</td>\n",
       "      <td>11.175760</td>\n",
       "      <td>10.587610</td>\n",
       "      <td>18.617448</td>\n",
       "      <td>39.438873</td>\n",
       "      <td>9.719308</td>\n",
       "      <td>11.980967</td>\n",
       "      <td>11.727227</td>\n",
       "      <td>30.267804</td>\n",
       "      <td>7.501693</td>\n",
       "      <td>...</td>\n",
       "      <td>35.059918</td>\n",
       "      <td>13.470916</td>\n",
       "      <td>8.118040</td>\n",
       "      <td>47.741225</td>\n",
       "      <td>20.662176</td>\n",
       "      <td>33.040686</td>\n",
       "      <td>6.958897</td>\n",
       "      <td>13.202809</td>\n",
       "      <td>9.342797</td>\n",
       "      <td>9.792507</td>\n",
       "    </tr>\n",
       "    <tr>\n",
       "      <th>7558</th>\n",
       "      <td>18.478978</td>\n",
       "      <td>11.203895</td>\n",
       "      <td>10.640968</td>\n",
       "      <td>18.508445</td>\n",
       "      <td>39.683468</td>\n",
       "      <td>9.743217</td>\n",
       "      <td>11.944286</td>\n",
       "      <td>11.686026</td>\n",
       "      <td>30.223669</td>\n",
       "      <td>7.577587</td>\n",
       "      <td>...</td>\n",
       "      <td>34.808868</td>\n",
       "      <td>13.554215</td>\n",
       "      <td>8.144982</td>\n",
       "      <td>47.806518</td>\n",
       "      <td>20.580834</td>\n",
       "      <td>32.703165</td>\n",
       "      <td>6.849956</td>\n",
       "      <td>13.294738</td>\n",
       "      <td>9.382559</td>\n",
       "      <td>9.672401</td>\n",
       "    </tr>\n",
       "    <tr>\n",
       "      <th>7559</th>\n",
       "      <td>18.575924</td>\n",
       "      <td>11.071143</td>\n",
       "      <td>10.484057</td>\n",
       "      <td>18.694208</td>\n",
       "      <td>39.846548</td>\n",
       "      <td>9.650831</td>\n",
       "      <td>12.022243</td>\n",
       "      <td>11.730174</td>\n",
       "      <td>30.296074</td>\n",
       "      <td>7.468483</td>\n",
       "      <td>...</td>\n",
       "      <td>34.716055</td>\n",
       "      <td>13.557359</td>\n",
       "      <td>8.182813</td>\n",
       "      <td>47.676784</td>\n",
       "      <td>20.668762</td>\n",
       "      <td>32.578307</td>\n",
       "      <td>6.881885</td>\n",
       "      <td>13.258587</td>\n",
       "      <td>9.401818</td>\n",
       "      <td>9.777825</td>\n",
       "    </tr>\n",
       "    <tr>\n",
       "      <th>7560</th>\n",
       "      <td>18.808384</td>\n",
       "      <td>11.025575</td>\n",
       "      <td>10.393932</td>\n",
       "      <td>18.477807</td>\n",
       "      <td>39.505670</td>\n",
       "      <td>9.614651</td>\n",
       "      <td>12.016433</td>\n",
       "      <td>11.662166</td>\n",
       "      <td>30.457062</td>\n",
       "      <td>7.412829</td>\n",
       "      <td>...</td>\n",
       "      <td>34.180231</td>\n",
       "      <td>13.441024</td>\n",
       "      <td>8.102930</td>\n",
       "      <td>47.992583</td>\n",
       "      <td>20.700696</td>\n",
       "      <td>32.610880</td>\n",
       "      <td>6.882489</td>\n",
       "      <td>13.242071</td>\n",
       "      <td>9.405979</td>\n",
       "      <td>9.793832</td>\n",
       "    </tr>\n",
       "  </tbody>\n",
       "</table>\n",
       "<p>7561 rows × 500 columns</p>\n",
       "</div>"
      ],
      "text/plain": [
       "            0          1          2          3          4         5    \\\n",
       "0      1.000000   1.000000   1.000000   1.000000   1.000000  1.000000   \n",
       "1      1.003058   1.010252   1.015057   1.005624   1.005198  0.997985   \n",
       "2      1.004178   0.999178   1.015458   1.000447   1.014919  1.012942   \n",
       "3      1.002661   1.010960   1.018767   0.996165   1.001163  1.034073   \n",
       "4      0.995311   1.022697   1.019564   1.007921   1.001253  1.041737   \n",
       "...         ...        ...        ...        ...        ...       ...   \n",
       "7556  18.363914  11.077549  10.486442  18.540209  38.865845  9.732097   \n",
       "7557  18.311061  11.175760  10.587610  18.617448  39.438873  9.719308   \n",
       "7558  18.478978  11.203895  10.640968  18.508445  39.683468  9.743217   \n",
       "7559  18.575924  11.071143  10.484057  18.694208  39.846548  9.650831   \n",
       "7560  18.808384  11.025575  10.393932  18.477807  39.505670  9.614651   \n",
       "\n",
       "            6          7          8         9    ...        490        491  \\\n",
       "0      1.000000   1.000000   1.000000  1.000000  ...   1.000000   1.000000   \n",
       "1      0.996998   1.004921   1.007746  1.000723  ...   1.009315   1.003450   \n",
       "2      0.998238   1.020100   1.010759  1.000984  ...   1.020652   1.000370   \n",
       "3      0.992450   1.029971   1.023713  1.000283  ...   1.035804   1.005613   \n",
       "4      0.991965   1.028436   1.026438  0.996404  ...   1.025828   1.023402   \n",
       "...         ...        ...        ...       ...  ...        ...        ...   \n",
       "7556  12.034147  11.649282  30.388984  7.562521  ...  34.963614  13.617929   \n",
       "7557  11.980967  11.727227  30.267804  7.501693  ...  35.059918  13.470916   \n",
       "7558  11.944286  11.686026  30.223669  7.577587  ...  34.808868  13.554215   \n",
       "7559  12.022243  11.730174  30.296074  7.468483  ...  34.716055  13.557359   \n",
       "7560  12.016433  11.662166  30.457062  7.412829  ...  34.180231  13.441024   \n",
       "\n",
       "           492        493        494        495       496        497  \\\n",
       "0     1.000000   1.000000   1.000000   1.000000  1.000000   1.000000   \n",
       "1     0.999250   1.014248   0.994829   0.992829  1.002114   0.987604   \n",
       "2     0.987174   1.004300   0.991997   0.995031  1.005587   0.995361   \n",
       "3     0.989446   1.009972   0.983912   0.997728  1.011426   0.987673   \n",
       "4     0.985482   0.997196   0.989562   0.995661  1.016717   0.984104   \n",
       "...        ...        ...        ...        ...       ...        ...   \n",
       "7556  8.091153  47.954732  20.978143  33.383238  6.960851  13.097061   \n",
       "7557  8.118040  47.741225  20.662176  33.040686  6.958897  13.202809   \n",
       "7558  8.144982  47.806518  20.580834  32.703165  6.849956  13.294738   \n",
       "7559  8.182813  47.676784  20.668762  32.578307  6.881885  13.258587   \n",
       "7560  8.102930  47.992583  20.700696  32.610880  6.882489  13.242071   \n",
       "\n",
       "           498       499  \n",
       "0     1.000000  1.000000  \n",
       "1     0.998264  0.996438  \n",
       "2     0.994688  1.012778  \n",
       "3     0.977227  1.007626  \n",
       "4     0.982709  1.001596  \n",
       "...        ...       ...  \n",
       "7556  9.340197  9.951391  \n",
       "7557  9.342797  9.792507  \n",
       "7558  9.382559  9.672401  \n",
       "7559  9.401818  9.777825  \n",
       "7560  9.405979  9.793832  \n",
       "\n",
       "[7561 rows x 500 columns]"
      ]
     },
     "execution_count": 278,
     "metadata": {},
     "output_type": "execute_result"
    }
   ],
   "source": [
    "# Run the Monte Carlo simulation to forecast 30 years cumulative returns\n",
    "MC_thirtyyear.calc_cumulative_return()\n"
   ]
  },
  {
   "cell_type": "code",
   "execution_count": 281,
   "metadata": {},
   "outputs": [
    {
     "data": {
      "image/png": "[encoded data removed]",
      "text/plain": [
       "<Figure size 432x288 with 1 Axes>"
      ]
     },
     "metadata": {
      "needs_background": "light"
     },
     "output_type": "display_data"
    }
   ],
   "source": [
    "# Visualize the 30-year Monte Carlo simulation by creating an\n",
    "# overlay line plot\n",
    "MC_sim_line_plot = MC_thirtyyear.plot_simulation()\n",
    "MC_sim_line_plot.get_figure().savefig(\"MC_thirtyyear_sim_plot.png\", bbox_inches=\"tight\")"
   ]
  },
  {
   "cell_type": "markdown",
   "metadata": {},
   "source": [
    "#### Step 3: Plot the probability distribution of the Monte Carlo simulation."
   ]
  },
  {
   "cell_type": "code",
   "execution_count": 282,
   "metadata": {},
   "outputs": [
    {
     "data": {
      "image/png": "[encoded data removed]",
      "text/plain": [
       "<Figure size 432x288 with 1 Axes>"
      ]
     },
     "metadata": {
      "needs_background": "light"
     },
     "output_type": "display_data"
    }
   ],
   "source": [
    "# Visualize the probability distribution of the 30-year Monte Carlo simulation \n",
    "# by plotting a histogram\n",
    "MC_sim_line_plot = MC_thirtyyear.plot_simulation()\n",
    "MC_sim_line_plot.get_figure().savefig(\"MC_thirtyyear_sim_plot.png\", bbox_inches=\"tight\")"
   ]
  },
  {
   "cell_type": "markdown",
   "metadata": {},
   "source": [
    "#### Step 4: Generate the summary statistics for the Monte Carlo simulation."
   ]
  },
  {
   "cell_type": "code",
   "execution_count": 283,
   "metadata": {},
   "outputs": [
    {
     "name": "stdout",
     "output_type": "stream",
     "text": [
      "count           500.000000\n",
      "mean             22.204630\n",
      "std              17.807993\n",
      "min               1.784830\n",
      "25%              10.219346\n",
      "50%              17.370300\n",
      "75%              27.826612\n",
      "max             131.523019\n",
      "95% CI Lower      5.137847\n",
      "95% CI Upper     67.071513\n",
      "Name: 7560, dtype: float64\n"
     ]
    }
   ],
   "source": [
    "# Generate summary statistics from the 30-year Monte Carlo simulation results\n",
    "# Save the results as a variable\n",
    "MC_summary_statistics = MC_thirtyyear.summarize_cumulative_return()\n",
    "\n",
    "\n",
    "# Review the 30-year Monte Carlo summary statistics\n",
    "print(MC_summary_statistics)"
   ]
  },
  {
   "cell_type": "markdown",
   "metadata": {},
   "source": [
    "### Analyze the Retirement Portfolio Forecasts\n",
    "\n",
    "Using the current value of only the stock and bond portion of the member's portfolio and the summary statistics that you generated from the Monte Carlo simulation, answer the following question in your Jupyter notebook:\n",
    "\n",
    "-  What are the lower and upper bounds for the expected value of the portfolio with a 95% confidence interval?\n"
   ]
  },
  {
   "cell_type": "code",
   "execution_count": 284,
   "metadata": {},
   "outputs": [
    {
     "name": "stdout",
     "output_type": "stream",
     "text": [
      "time\n",
      "2021-10-18 00:00:00-04:00    169155.542\n",
      "Name: close, dtype: float64\n"
     ]
    }
   ],
   "source": [
    "# Print the current balance of the stock and bond portion of the members portfolio\n",
    "print(total_portfolio)\n"
   ]
  },
  {
   "cell_type": "code",
   "execution_count": 289,
   "metadata": {},
   "outputs": [
    {
     "name": "stdout",
     "output_type": "stream",
     "text": [
      "There is a 95% chance that an initial investment of $10,000 in the portfolio over the next 30 years will end within in the range of $ 51378.47 and $ 670715.13.\n"
     ]
    }
   ],
   "source": [
    "# Use the lower and upper `95%` confidence intervals to calculate the range of the possible outcomes for the current stock/bond portfolio\n",
    "ci_lower_thirty_cumulative_return = MC_summary_statistics[8] * 10000\n",
    "ci_upper_thirty_cumulative_return = MC_summary_statistics[9] * 10000\n",
    "\n",
    "\n",
    "# Print the result of your calculations\n",
    "print(f\"There is a 95% chance that an initial investment of $10,000 in the portfolio\"\n",
    "  f\" over the next 30 years will end within in the range of\"\n",
    "  f\" ${ci_lower_thirty_cumulative_return: .2f} and ${ci_upper_thirty_cumulative_return: .2f}.\")\n"
   ]
  },
  {
   "cell_type": "markdown",
   "metadata": {},
   "source": [
    "### Forecast Cumulative Returns in 10 Years\n",
    "\n",
    "The CTO of the credit union is impressed with your work on these planning tools but wonders if 30 years is a long time to wait until retirement. So, your next task is to adjust the retirement portfolio and run a new Monte Carlo simulation to find out if the changes will allow members to retire earlier.\n",
    "\n",
    "For this new Monte Carlo simulation, do the following: \n",
    "\n",
    "- Forecast the cumulative returns for 10 years from now. Because of the shortened investment horizon (30 years to 10 years), the portfolio needs to invest more heavily in the riskier asset&mdash;that is, stock&mdash;to help accumulate wealth for retirement. \n",
    "\n",
    "- Adjust the weights of the retirement portfolio so that the composition for the Monte Carlo simulation consists of 20% bonds and 80% stocks. \n",
    "\n",
    "- Run the simulation over 500 samples, and use the same data that the API call to Alpaca generated.\n",
    "\n",
    "- Based on the new Monte Carlo simulation, answer the following questions in your Jupyter notebook:\n",
    "\n",
    "    - Using the current value of only the stock and bond portion of the member's portfolio and the summary statistics that you generated from the new Monte Carlo simulation, what are the lower and upper bounds for the expected value of the portfolio (with the new weights) with a 95% confidence interval?\n",
    "\n",
    "    - Will weighting the portfolio more heavily toward stocks allow the credit union members to retire after only 10 years?\n"
   ]
  },
  {
   "cell_type": "code",
   "execution_count": 290,
   "metadata": {},
   "outputs": [
    {
     "data": {
      "text/html": [
       "<div>\n",
       "<style scoped>\n",
       "    .dataframe tbody tr th:only-of-type {\n",
       "        vertical-align: middle;\n",
       "    }\n",
       "\n",
       "    .dataframe tbody tr th {\n",
       "        vertical-align: top;\n",
       "    }\n",
       "\n",
       "    .dataframe thead tr th {\n",
       "        text-align: left;\n",
       "    }\n",
       "\n",
       "    .dataframe thead tr:last-of-type th {\n",
       "        text-align: right;\n",
       "    }\n",
       "</style>\n",
       "<table border=\"1\" class=\"dataframe\">\n",
       "  <thead>\n",
       "    <tr>\n",
       "      <th></th>\n",
       "      <th colspan=\"6\" halign=\"left\">AGG</th>\n",
       "      <th colspan=\"6\" halign=\"left\">SPY</th>\n",
       "    </tr>\n",
       "    <tr>\n",
       "      <th></th>\n",
       "      <th>open</th>\n",
       "      <th>high</th>\n",
       "      <th>low</th>\n",
       "      <th>close</th>\n",
       "      <th>volume</th>\n",
       "      <th>daily_return</th>\n",
       "      <th>open</th>\n",
       "      <th>high</th>\n",
       "      <th>low</th>\n",
       "      <th>close</th>\n",
       "      <th>volume</th>\n",
       "      <th>daily_return</th>\n",
       "    </tr>\n",
       "    <tr>\n",
       "      <th>time</th>\n",
       "      <th></th>\n",
       "      <th></th>\n",
       "      <th></th>\n",
       "      <th></th>\n",
       "      <th></th>\n",
       "      <th></th>\n",
       "      <th></th>\n",
       "      <th></th>\n",
       "      <th></th>\n",
       "      <th></th>\n",
       "      <th></th>\n",
       "      <th></th>\n",
       "    </tr>\n",
       "  </thead>\n",
       "  <tbody>\n",
       "    <tr>\n",
       "      <th>2017-10-30 00:00:00-04:00</th>\n",
       "      <td>109.43</td>\n",
       "      <td>109.560</td>\n",
       "      <td>109.360</td>\n",
       "      <td>109.53</td>\n",
       "      <td>1719161.0</td>\n",
       "      <td>NaN</td>\n",
       "      <td>NaN</td>\n",
       "      <td>NaN</td>\n",
       "      <td>NaN</td>\n",
       "      <td>NaN</td>\n",
       "      <td>NaN</td>\n",
       "      <td>NaN</td>\n",
       "    </tr>\n",
       "    <tr>\n",
       "      <th>2017-10-31 00:00:00-04:00</th>\n",
       "      <td>109.52</td>\n",
       "      <td>109.550</td>\n",
       "      <td>109.440</td>\n",
       "      <td>109.45</td>\n",
       "      <td>2427946.0</td>\n",
       "      <td>-0.000730</td>\n",
       "      <td>257.18</td>\n",
       "      <td>257.44</td>\n",
       "      <td>256.805</td>\n",
       "      <td>257.11</td>\n",
       "      <td>35711419.0</td>\n",
       "      <td>NaN</td>\n",
       "    </tr>\n",
       "    <tr>\n",
       "      <th>2017-11-01 00:00:00-04:00</th>\n",
       "      <td>109.17</td>\n",
       "      <td>109.410</td>\n",
       "      <td>109.170</td>\n",
       "      <td>109.29</td>\n",
       "      <td>2289204.0</td>\n",
       "      <td>-0.001462</td>\n",
       "      <td>258.04</td>\n",
       "      <td>258.43</td>\n",
       "      <td>257.070</td>\n",
       "      <td>257.51</td>\n",
       "      <td>40454406.0</td>\n",
       "      <td>0.001556</td>\n",
       "    </tr>\n",
       "    <tr>\n",
       "      <th>2017-11-02 00:00:00-04:00</th>\n",
       "      <td>109.35</td>\n",
       "      <td>109.495</td>\n",
       "      <td>109.331</td>\n",
       "      <td>109.36</td>\n",
       "      <td>1870711.0</td>\n",
       "      <td>0.000640</td>\n",
       "      <td>257.41</td>\n",
       "      <td>257.75</td>\n",
       "      <td>256.190</td>\n",
       "      <td>257.61</td>\n",
       "      <td>42432046.0</td>\n",
       "      <td>0.000388</td>\n",
       "    </tr>\n",
       "    <tr>\n",
       "      <th>2017-11-03 00:00:00-04:00</th>\n",
       "      <td>109.48</td>\n",
       "      <td>109.480</td>\n",
       "      <td>109.290</td>\n",
       "      <td>109.46</td>\n",
       "      <td>1511462.0</td>\n",
       "      <td>0.000914</td>\n",
       "      <td>257.78</td>\n",
       "      <td>258.50</td>\n",
       "      <td>257.300</td>\n",
       "      <td>258.44</td>\n",
       "      <td>38008582.0</td>\n",
       "      <td>0.003222</td>\n",
       "    </tr>\n",
       "  </tbody>\n",
       "</table>\n",
       "</div>"
      ],
      "text/plain": [
       "                              AGG                                       \\\n",
       "                             open     high      low   close     volume   \n",
       "time                                                                     \n",
       "2017-10-30 00:00:00-04:00  109.43  109.560  109.360  109.53  1719161.0   \n",
       "2017-10-31 00:00:00-04:00  109.52  109.550  109.440  109.45  2427946.0   \n",
       "2017-11-01 00:00:00-04:00  109.17  109.410  109.170  109.29  2289204.0   \n",
       "2017-11-02 00:00:00-04:00  109.35  109.495  109.331  109.36  1870711.0   \n",
       "2017-11-03 00:00:00-04:00  109.48  109.480  109.290  109.46  1511462.0   \n",
       "\n",
       "                                           SPY                           \\\n",
       "                          daily_return    open    high      low   close   \n",
       "time                                                                      \n",
       "2017-10-30 00:00:00-04:00          NaN     NaN     NaN      NaN     NaN   \n",
       "2017-10-31 00:00:00-04:00    -0.000730  257.18  257.44  256.805  257.11   \n",
       "2017-11-01 00:00:00-04:00    -0.001462  258.04  258.43  257.070  257.51   \n",
       "2017-11-02 00:00:00-04:00     0.000640  257.41  257.75  256.190  257.61   \n",
       "2017-11-03 00:00:00-04:00     0.000914  257.78  258.50  257.300  258.44   \n",
       "\n",
       "                                                    \n",
       "                               volume daily_return  \n",
       "time                                                \n",
       "2017-10-30 00:00:00-04:00         NaN          NaN  \n",
       "2017-10-31 00:00:00-04:00  35711419.0          NaN  \n",
       "2017-11-01 00:00:00-04:00  40454406.0     0.001556  \n",
       "2017-11-02 00:00:00-04:00  42432046.0     0.000388  \n",
       "2017-11-03 00:00:00-04:00  38008582.0     0.003222  "
      ]
     },
     "execution_count": 290,
     "metadata": {},
     "output_type": "execute_result"
    }
   ],
   "source": [
    "# Configure a Monte Carlo simulation to forecast 10 years cumulative returns\n",
    "# The weights should be split 20% to AGG and 80% to SPY.\n",
    "# Run 500 samples.\n",
    "MC_tenyear = MCSimulation(\n",
    "  portfolio_data = df_portfolio,\n",
    "  weights = [.20,.80],\n",
    "  num_simulation = 500,\n",
    "  num_trading_days = 252*10\n",
    ")\n",
    "\n",
    "# Review the simulation input data\n",
    "MC_tenyear.portfolio_data.head()\n"
   ]
  },
  {
   "cell_type": "code",
   "execution_count": 291,
   "metadata": {},
   "outputs": [
    {
     "name": "stdout",
     "output_type": "stream",
     "text": [
      "Running Monte Carlo simulation number 0.\n",
      "Running Monte Carlo simulation number 10.\n",
      "Running Monte Carlo simulation number 20.\n",
      "Running Monte Carlo simulation number 30.\n",
      "Running Monte Carlo simulation number 40.\n",
      "Running Monte Carlo simulation number 50.\n",
      "Running Monte Carlo simulation number 60.\n",
      "Running Monte Carlo simulation number 70.\n",
      "Running Monte Carlo simulation number 80.\n",
      "Running Monte Carlo simulation number 90.\n",
      "Running Monte Carlo simulation number 100.\n",
      "Running Monte Carlo simulation number 110.\n",
      "Running Monte Carlo simulation number 120.\n",
      "Running Monte Carlo simulation number 130.\n",
      "Running Monte Carlo simulation number 140.\n",
      "Running Monte Carlo simulation number 150.\n",
      "Running Monte Carlo simulation number 160.\n",
      "Running Monte Carlo simulation number 170.\n",
      "Running Monte Carlo simulation number 180.\n",
      "Running Monte Carlo simulation number 190.\n",
      "Running Monte Carlo simulation number 200.\n",
      "Running Monte Carlo simulation number 210.\n",
      "Running Monte Carlo simulation number 220.\n",
      "Running Monte Carlo simulation number 230.\n",
      "Running Monte Carlo simulation number 240.\n",
      "Running Monte Carlo simulation number 250.\n",
      "Running Monte Carlo simulation number 260.\n",
      "Running Monte Carlo simulation number 270.\n",
      "Running Monte Carlo simulation number 280.\n",
      "Running Monte Carlo simulation number 290.\n",
      "Running Monte Carlo simulation number 300.\n",
      "Running Monte Carlo simulation number 310.\n",
      "Running Monte Carlo simulation number 320.\n",
      "Running Monte Carlo simulation number 330.\n",
      "Running Monte Carlo simulation number 340.\n",
      "Running Monte Carlo simulation number 350.\n",
      "Running Monte Carlo simulation number 360.\n",
      "Running Monte Carlo simulation number 370.\n",
      "Running Monte Carlo simulation number 380.\n",
      "Running Monte Carlo simulation number 390.\n",
      "Running Monte Carlo simulation number 400.\n",
      "Running Monte Carlo simulation number 410.\n",
      "Running Monte Carlo simulation number 420.\n",
      "Running Monte Carlo simulation number 430.\n",
      "Running Monte Carlo simulation number 440.\n",
      "Running Monte Carlo simulation number 450.\n",
      "Running Monte Carlo simulation number 460.\n",
      "Running Monte Carlo simulation number 470.\n",
      "Running Monte Carlo simulation number 480.\n",
      "Running Monte Carlo simulation number 490.\n"
     ]
    },
    {
     "data": {
      "text/html": [
       "<div>\n",
       "<style scoped>\n",
       "    .dataframe tbody tr th:only-of-type {\n",
       "        vertical-align: middle;\n",
       "    }\n",
       "\n",
       "    .dataframe tbody tr th {\n",
       "        vertical-align: top;\n",
       "    }\n",
       "\n",
       "    .dataframe thead th {\n",
       "        text-align: right;\n",
       "    }\n",
       "</style>\n",
       "<table border=\"1\" class=\"dataframe\">\n",
       "  <thead>\n",
       "    <tr style=\"text-align: right;\">\n",
       "      <th></th>\n",
       "      <th>0</th>\n",
       "      <th>1</th>\n",
       "      <th>2</th>\n",
       "      <th>3</th>\n",
       "      <th>4</th>\n",
       "      <th>5</th>\n",
       "      <th>6</th>\n",
       "      <th>7</th>\n",
       "      <th>8</th>\n",
       "      <th>9</th>\n",
       "      <th>...</th>\n",
       "      <th>490</th>\n",
       "      <th>491</th>\n",
       "      <th>492</th>\n",
       "      <th>493</th>\n",
       "      <th>494</th>\n",
       "      <th>495</th>\n",
       "      <th>496</th>\n",
       "      <th>497</th>\n",
       "      <th>498</th>\n",
       "      <th>499</th>\n",
       "    </tr>\n",
       "  </thead>\n",
       "  <tbody>\n",
       "    <tr>\n",
       "      <th>0</th>\n",
       "      <td>1.000000</td>\n",
       "      <td>1.000000</td>\n",
       "      <td>1.000000</td>\n",
       "      <td>1.000000</td>\n",
       "      <td>1.000000</td>\n",
       "      <td>1.000000</td>\n",
       "      <td>1.000000</td>\n",
       "      <td>1.000000</td>\n",
       "      <td>1.000000</td>\n",
       "      <td>1.000000</td>\n",
       "      <td>...</td>\n",
       "      <td>1.000000</td>\n",
       "      <td>1.000000</td>\n",
       "      <td>1.000000</td>\n",
       "      <td>1.000000</td>\n",
       "      <td>1.000000</td>\n",
       "      <td>1.000000</td>\n",
       "      <td>1.000000</td>\n",
       "      <td>1.000000</td>\n",
       "      <td>1.000000</td>\n",
       "      <td>1.000000</td>\n",
       "    </tr>\n",
       "    <tr>\n",
       "      <th>1</th>\n",
       "      <td>0.987387</td>\n",
       "      <td>0.981513</td>\n",
       "      <td>1.007710</td>\n",
       "      <td>1.001284</td>\n",
       "      <td>1.005545</td>\n",
       "      <td>1.020384</td>\n",
       "      <td>1.006109</td>\n",
       "      <td>1.004064</td>\n",
       "      <td>1.002295</td>\n",
       "      <td>0.999971</td>\n",
       "      <td>...</td>\n",
       "      <td>0.997848</td>\n",
       "      <td>0.997884</td>\n",
       "      <td>1.006606</td>\n",
       "      <td>1.025659</td>\n",
       "      <td>1.001684</td>\n",
       "      <td>0.997112</td>\n",
       "      <td>0.995653</td>\n",
       "      <td>1.004762</td>\n",
       "      <td>1.009246</td>\n",
       "      <td>1.002557</td>\n",
       "    </tr>\n",
       "    <tr>\n",
       "      <th>2</th>\n",
       "      <td>0.996302</td>\n",
       "      <td>0.966904</td>\n",
       "      <td>1.001526</td>\n",
       "      <td>1.010662</td>\n",
       "      <td>0.999938</td>\n",
       "      <td>1.026163</td>\n",
       "      <td>1.011690</td>\n",
       "      <td>1.005181</td>\n",
       "      <td>1.009354</td>\n",
       "      <td>1.009255</td>\n",
       "      <td>...</td>\n",
       "      <td>1.002358</td>\n",
       "      <td>1.007164</td>\n",
       "      <td>1.018758</td>\n",
       "      <td>1.018576</td>\n",
       "      <td>0.998177</td>\n",
       "      <td>0.990577</td>\n",
       "      <td>0.990023</td>\n",
       "      <td>1.011924</td>\n",
       "      <td>1.004615</td>\n",
       "      <td>0.988478</td>\n",
       "    </tr>\n",
       "    <tr>\n",
       "      <th>3</th>\n",
       "      <td>0.988523</td>\n",
       "      <td>0.954978</td>\n",
       "      <td>1.004290</td>\n",
       "      <td>1.000711</td>\n",
       "      <td>1.004988</td>\n",
       "      <td>1.044909</td>\n",
       "      <td>1.011635</td>\n",
       "      <td>1.008856</td>\n",
       "      <td>1.010526</td>\n",
       "      <td>1.008189</td>\n",
       "      <td>...</td>\n",
       "      <td>0.987381</td>\n",
       "      <td>1.023042</td>\n",
       "      <td>1.036304</td>\n",
       "      <td>1.017855</td>\n",
       "      <td>1.010543</td>\n",
       "      <td>0.976171</td>\n",
       "      <td>0.992143</td>\n",
       "      <td>1.010175</td>\n",
       "      <td>0.998193</td>\n",
       "      <td>0.989240</td>\n",
       "    </tr>\n",
       "    <tr>\n",
       "      <th>4</th>\n",
       "      <td>1.000822</td>\n",
       "      <td>0.954596</td>\n",
       "      <td>0.995137</td>\n",
       "      <td>0.999161</td>\n",
       "      <td>1.015068</td>\n",
       "      <td>1.036701</td>\n",
       "      <td>1.004748</td>\n",
       "      <td>1.031165</td>\n",
       "      <td>1.008438</td>\n",
       "      <td>0.990478</td>\n",
       "      <td>...</td>\n",
       "      <td>0.985727</td>\n",
       "      <td>1.035241</td>\n",
       "      <td>1.045744</td>\n",
       "      <td>1.027664</td>\n",
       "      <td>1.016362</td>\n",
       "      <td>0.960590</td>\n",
       "      <td>0.993367</td>\n",
       "      <td>1.010259</td>\n",
       "      <td>0.988185</td>\n",
       "      <td>0.978135</td>\n",
       "    </tr>\n",
       "    <tr>\n",
       "      <th>...</th>\n",
       "      <td>...</td>\n",
       "      <td>...</td>\n",
       "      <td>...</td>\n",
       "      <td>...</td>\n",
       "      <td>...</td>\n",
       "      <td>...</td>\n",
       "      <td>...</td>\n",
       "      <td>...</td>\n",
       "      <td>...</td>\n",
       "      <td>...</td>\n",
       "      <td>...</td>\n",
       "      <td>...</td>\n",
       "      <td>...</td>\n",
       "      <td>...</td>\n",
       "      <td>...</td>\n",
       "      <td>...</td>\n",
       "      <td>...</td>\n",
       "      <td>...</td>\n",
       "      <td>...</td>\n",
       "      <td>...</td>\n",
       "      <td>...</td>\n",
       "    </tr>\n",
       "    <tr>\n",
       "      <th>2516</th>\n",
       "      <td>2.584247</td>\n",
       "      <td>6.662372</td>\n",
       "      <td>0.737621</td>\n",
       "      <td>1.761759</td>\n",
       "      <td>7.161124</td>\n",
       "      <td>3.964546</td>\n",
       "      <td>6.332473</td>\n",
       "      <td>3.866173</td>\n",
       "      <td>3.724884</td>\n",
       "      <td>0.963541</td>\n",
       "      <td>...</td>\n",
       "      <td>3.808264</td>\n",
       "      <td>4.912648</td>\n",
       "      <td>2.312756</td>\n",
       "      <td>2.630912</td>\n",
       "      <td>3.420345</td>\n",
       "      <td>2.021305</td>\n",
       "      <td>5.515149</td>\n",
       "      <td>2.565401</td>\n",
       "      <td>9.996688</td>\n",
       "      <td>1.581475</td>\n",
       "    </tr>\n",
       "    <tr>\n",
       "      <th>2517</th>\n",
       "      <td>2.651708</td>\n",
       "      <td>6.653376</td>\n",
       "      <td>0.737078</td>\n",
       "      <td>1.767874</td>\n",
       "      <td>7.064931</td>\n",
       "      <td>3.978539</td>\n",
       "      <td>6.355403</td>\n",
       "      <td>3.874210</td>\n",
       "      <td>3.758863</td>\n",
       "      <td>0.966971</td>\n",
       "      <td>...</td>\n",
       "      <td>3.833982</td>\n",
       "      <td>4.944980</td>\n",
       "      <td>2.321670</td>\n",
       "      <td>2.658930</td>\n",
       "      <td>3.406922</td>\n",
       "      <td>2.044098</td>\n",
       "      <td>5.470288</td>\n",
       "      <td>2.514377</td>\n",
       "      <td>9.799777</td>\n",
       "      <td>1.589218</td>\n",
       "    </tr>\n",
       "    <tr>\n",
       "      <th>2518</th>\n",
       "      <td>2.689172</td>\n",
       "      <td>6.786216</td>\n",
       "      <td>0.735667</td>\n",
       "      <td>1.767654</td>\n",
       "      <td>7.046381</td>\n",
       "      <td>3.920102</td>\n",
       "      <td>6.320261</td>\n",
       "      <td>3.852260</td>\n",
       "      <td>3.754260</td>\n",
       "      <td>0.961178</td>\n",
       "      <td>...</td>\n",
       "      <td>3.737498</td>\n",
       "      <td>4.869987</td>\n",
       "      <td>2.299088</td>\n",
       "      <td>2.655314</td>\n",
       "      <td>3.370101</td>\n",
       "      <td>2.056688</td>\n",
       "      <td>5.605673</td>\n",
       "      <td>2.488170</td>\n",
       "      <td>9.762941</td>\n",
       "      <td>1.603939</td>\n",
       "    </tr>\n",
       "    <tr>\n",
       "      <th>2519</th>\n",
       "      <td>2.697137</td>\n",
       "      <td>6.797773</td>\n",
       "      <td>0.728506</td>\n",
       "      <td>1.763741</td>\n",
       "      <td>7.020535</td>\n",
       "      <td>3.918800</td>\n",
       "      <td>6.346261</td>\n",
       "      <td>3.933326</td>\n",
       "      <td>3.752352</td>\n",
       "      <td>0.964860</td>\n",
       "      <td>...</td>\n",
       "      <td>3.746348</td>\n",
       "      <td>4.829890</td>\n",
       "      <td>2.311464</td>\n",
       "      <td>2.692909</td>\n",
       "      <td>3.389703</td>\n",
       "      <td>2.026235</td>\n",
       "      <td>5.611851</td>\n",
       "      <td>2.467210</td>\n",
       "      <td>9.842020</td>\n",
       "      <td>1.594392</td>\n",
       "    </tr>\n",
       "    <tr>\n",
       "      <th>2520</th>\n",
       "      <td>2.659758</td>\n",
       "      <td>6.714506</td>\n",
       "      <td>0.723719</td>\n",
       "      <td>1.757203</td>\n",
       "      <td>7.131948</td>\n",
       "      <td>3.941651</td>\n",
       "      <td>6.339585</td>\n",
       "      <td>3.892255</td>\n",
       "      <td>3.720372</td>\n",
       "      <td>0.951527</td>\n",
       "      <td>...</td>\n",
       "      <td>3.766081</td>\n",
       "      <td>4.911241</td>\n",
       "      <td>2.291473</td>\n",
       "      <td>2.686651</td>\n",
       "      <td>3.395915</td>\n",
       "      <td>2.025080</td>\n",
       "      <td>5.502165</td>\n",
       "      <td>2.467098</td>\n",
       "      <td>10.000693</td>\n",
       "      <td>1.593429</td>\n",
       "    </tr>\n",
       "  </tbody>\n",
       "</table>\n",
       "<p>2521 rows × 500 columns</p>\n",
       "</div>"
      ],
      "text/plain": [
       "           0         1         2         3         4         5         6    \\\n",
       "0     1.000000  1.000000  1.000000  1.000000  1.000000  1.000000  1.000000   \n",
       "1     0.987387  0.981513  1.007710  1.001284  1.005545  1.020384  1.006109   \n",
       "2     0.996302  0.966904  1.001526  1.010662  0.999938  1.026163  1.011690   \n",
       "3     0.988523  0.954978  1.004290  1.000711  1.004988  1.044909  1.011635   \n",
       "4     1.000822  0.954596  0.995137  0.999161  1.015068  1.036701  1.004748   \n",
       "...        ...       ...       ...       ...       ...       ...       ...   \n",
       "2516  2.584247  6.662372  0.737621  1.761759  7.161124  3.964546  6.332473   \n",
       "2517  2.651708  6.653376  0.737078  1.767874  7.064931  3.978539  6.355403   \n",
       "2518  2.689172  6.786216  0.735667  1.767654  7.046381  3.920102  6.320261   \n",
       "2519  2.697137  6.797773  0.728506  1.763741  7.020535  3.918800  6.346261   \n",
       "2520  2.659758  6.714506  0.723719  1.757203  7.131948  3.941651  6.339585   \n",
       "\n",
       "           7         8         9    ...       490       491       492  \\\n",
       "0     1.000000  1.000000  1.000000  ...  1.000000  1.000000  1.000000   \n",
       "1     1.004064  1.002295  0.999971  ...  0.997848  0.997884  1.006606   \n",
       "2     1.005181  1.009354  1.009255  ...  1.002358  1.007164  1.018758   \n",
       "3     1.008856  1.010526  1.008189  ...  0.987381  1.023042  1.036304   \n",
       "4     1.031165  1.008438  0.990478  ...  0.985727  1.035241  1.045744   \n",
       "...        ...       ...       ...  ...       ...       ...       ...   \n",
       "2516  3.866173  3.724884  0.963541  ...  3.808264  4.912648  2.312756   \n",
       "2517  3.874210  3.758863  0.966971  ...  3.833982  4.944980  2.321670   \n",
       "2518  3.852260  3.754260  0.961178  ...  3.737498  4.869987  2.299088   \n",
       "2519  3.933326  3.752352  0.964860  ...  3.746348  4.829890  2.311464   \n",
       "2520  3.892255  3.720372  0.951527  ...  3.766081  4.911241  2.291473   \n",
       "\n",
       "           493       494       495       496       497        498       499  \n",
       "0     1.000000  1.000000  1.000000  1.000000  1.000000   1.000000  1.000000  \n",
       "1     1.025659  1.001684  0.997112  0.995653  1.004762   1.009246  1.002557  \n",
       "2     1.018576  0.998177  0.990577  0.990023  1.011924   1.004615  0.988478  \n",
       "3     1.017855  1.010543  0.976171  0.992143  1.010175   0.998193  0.989240  \n",
       "4     1.027664  1.016362  0.960590  0.993367  1.010259   0.988185  0.978135  \n",
       "...        ...       ...       ...       ...       ...        ...       ...  \n",
       "2516  2.630912  3.420345  2.021305  5.515149  2.565401   9.996688  1.581475  \n",
       "2517  2.658930  3.406922  2.044098  5.470288  2.514377   9.799777  1.589218  \n",
       "2518  2.655314  3.370101  2.056688  5.605673  2.488170   9.762941  1.603939  \n",
       "2519  2.692909  3.389703  2.026235  5.611851  2.467210   9.842020  1.594392  \n",
       "2520  2.686651  3.395915  2.025080  5.502165  2.467098  10.000693  1.593429  \n",
       "\n",
       "[2521 rows x 500 columns]"
      ]
     },
     "execution_count": 291,
     "metadata": {},
     "output_type": "execute_result"
    }
   ],
   "source": [
    "# Run the Monte Carlo simulation to forecast 10 years cumulative returns\n",
    "MC_tenyear.calc_cumulative_return()\n"
   ]
  },
  {
   "cell_type": "code",
   "execution_count": 292,
   "metadata": {},
   "outputs": [
    {
     "data": {
      "image/png": "[encoded data removed]",
      "text/plain": [
       "<Figure size 432x288 with 1 Axes>"
      ]
     },
     "metadata": {
      "needs_background": "light"
     },
     "output_type": "display_data"
    }
   ],
   "source": [
    "# Visualize the 10-year Monte Carlo simulation by creating an\n",
    "# overlay line plot\n",
    "MC_sim_line_plot = MC_tenyear.plot_simulation()\n",
    "MC_sim_line_plot.get_figure().savefig(\"MC_tenyear_sim_plot.png\", bbox_inches=\"tight\")\n"
   ]
  },
  {
   "cell_type": "code",
   "execution_count": 293,
   "metadata": {},
   "outputs": [
    {
     "data": {
      "image/png": "[encoded data removed]",
      "text/plain": [
       "<Figure size 432x288 with 1 Axes>"
      ]
     },
     "metadata": {
      "needs_background": "light"
     },
     "output_type": "display_data"
    }
   ],
   "source": [
    "# Visualize the probability distribution of the 10-year Monte Carlo simulation \n",
    "# by plotting a histogram\n",
    "MC_sim_line_plot = MC_tenyear.plot_simulation()\n",
    "MC_sim_line_plot.get_figure().savefig(\"MC_tenyear_sim_plot.png\", bbox_inches=\"tight\")\n"
   ]
  },
  {
   "cell_type": "code",
   "execution_count": 294,
   "metadata": {},
   "outputs": [
    {
     "name": "stdout",
     "output_type": "stream",
     "text": [
      "count           500.000000\n",
      "mean              3.771935\n",
      "std               2.281432\n",
      "min               0.539666\n",
      "25%               2.257464\n",
      "50%               3.268644\n",
      "75%               4.680943\n",
      "max              20.850194\n",
      "95% CI Lower      1.160494\n",
      "95% CI Upper      9.475908\n",
      "Name: 2520, dtype: float64\n"
     ]
    }
   ],
   "source": [
    "# Generate summary statistics from the 10-year Monte Carlo simulation results\n",
    "# Save the results as a variable\n",
    "MC_summary_statistics = MC_tenyear.summarize_cumulative_return()\n",
    "\n",
    "\n",
    "# Review the 10-year Monte Carlo summary statistics\n",
    "print(MC_summary_statistics)"
   ]
  },
  {
   "cell_type": "markdown",
   "metadata": {},
   "source": [
    "### Answer the following questions:"
   ]
  },
  {
   "cell_type": "markdown",
   "metadata": {},
   "source": [
    "#### Question: Using the current value of only the stock and bond portion of the member's portfolio and the summary statistics that you generated from the new Monte Carlo simulation, what are the lower and upper bounds for the expected value of the portfolio (with the new weights) with a 95% confidence interval?"
   ]
  },
  {
   "cell_type": "code",
   "execution_count": 295,
   "metadata": {},
   "outputs": [
    {
     "name": "stdout",
     "output_type": "stream",
     "text": [
      "time\n",
      "2021-10-18 00:00:00-04:00    169155.542\n",
      "Name: close, dtype: float64\n"
     ]
    }
   ],
   "source": [
    "# Print the current balance of the stock and bond portion of the members portfolio\n",
    "print(total_portfolio)\n"
   ]
  },
  {
   "cell_type": "code",
   "execution_count": 297,
   "metadata": {},
   "outputs": [
    {
     "name": "stdout",
     "output_type": "stream",
     "text": [
      "There is a 95% chance that an initial investment of $10,000 in the portfolio over the next 10 years will end within in the range of $ 1160.49 and $ 9475.91.\n"
     ]
    }
   ],
   "source": [
    "# Use the lower and upper `95%` confidence intervals to calculate the range of the possible outcomes for the current stock/bond portfolio\n",
    "ci_lower_ten_cumulative_return = MC_summary_statistics[8]*1000\n",
    "ci_upper_ten_cumulative_return = MC_summary_statistics[9]*1000\n",
    "\n",
    "# Print the result of your calculations\n",
    "print(f\"There is a 95% chance that an initial investment of $10,000 in the portfolio\"\n",
    "  f\" over the next 10 years will end within in the range of\"\n",
    "  f\" ${ci_lower_ten_cumulative_return: .2f} and ${ci_upper_ten_cumulative_return: .2f}.\")\n",
    "\n"
   ]
  },
  {
   "cell_type": "code",
   "execution_count": 298,
   "metadata": {},
   "outputs": [
    {
     "name": "stdout",
     "output_type": "stream",
     "text": [
      "There is a 95% chance that an initial investment of $10,000 in the portfolio over the next 10 years will end within in the range of $ 1160.49 and $ 9475.91.\n",
      "There is a 95% chance that an initial investment of $10,000 in the portfolio over the next 30 years will end within in the range of $ 51378.47 and $ 670715.13.\n"
     ]
    }
   ],
   "source": [
    "print(f\"There is a 95% chance that an initial investment of $10,000 in the portfolio\"\n",
    "  f\" over the next 10 years will end within in the range of\"\n",
    "  f\" ${ci_lower_ten_cumulative_return: .2f} and ${ci_upper_ten_cumulative_return: .2f}.\")\n",
    "\n",
    "print(f\"There is a 95% chance that an initial investment of $10,000 in the portfolio\"\n",
    "  f\" over the next 30 years will end within in the range of\"\n",
    "  f\" ${ci_lower_thirty_cumulative_return: .2f} and ${ci_upper_thirty_cumulative_return: .2f}.\")\n"
   ]
  },
  {
   "cell_type": "markdown",
   "metadata": {},
   "source": [
    "#### Question: Will weighting the portfolio more heavily to stocks allow the credit union members to retire after only 10 years?"
   ]
  },
  {
   "cell_type": "raw",
   "metadata": {},
   "source": [
    "**Answer** No"
   ]
  },
  {
   "cell_type": "code",
   "execution_count": null,
   "metadata": {},
   "outputs": [],
   "source": []
  }
 ],
 "metadata": {
  "interpreter": {
   "hash": "40e9b2adb015e70e4ae6ef8b045f879016910b84efe6b797488ffecf690d46b9"
  },
  "kernelspec": {
   "display_name": "Python 3.8.8 64-bit ('dev': conda)",
   "name": "python3"
  },
  "language_info": {
   "codemirror_mode": {
    "name": "ipython",
    "version": 3
   },
   "file_extension": ".py",
   "mimetype": "text/x-python",
   "name": "python",
   "nbconvert_exporter": "python",
   "pygments_lexer": "ipython3",
   "version": "3.8.8"
  }
 },
 "nbformat": 4,
 "nbformat_minor": 4
}
